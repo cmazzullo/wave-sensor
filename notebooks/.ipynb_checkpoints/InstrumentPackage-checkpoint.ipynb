{
 "metadata": {
  "name": "",
  "signature": "sha256:90e6812b3168dbc0fd9dec881533552d4f82fd29c7010ee06ed901c8a1f305ba"
 },
 "nbformat": 3,
 "nbformat_minor": 0,
 "worksheets": []
}