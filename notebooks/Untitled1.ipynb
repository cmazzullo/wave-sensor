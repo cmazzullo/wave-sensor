{
 "metadata": {
  "name": "",
  "signature": "sha256:d5fcb6160f5f35d43397bf3be9fe70ed88db6594550392fd241fa88345fb6199"
 },
 "nbformat": 3,
 "nbformat_minor": 0,
 "worksheets": [
  {
   "cells": [
    {
     "cell_type": "heading",
     "level": 1,
     "metadata": {},
     "source": [
      "Using the Instruments"
     ]
    },
    {
     "cell_type": "heading",
     "level": 3,
     "metadata": {},
     "source": [
      "1.  Step One:  Installing Truware and setting up Tests for Logging"
     ]
    },
    {
     "cell_type": "markdown",
     "metadata": {},
     "source": []
    }
   ],
   "metadata": {}
  }
 ]
}