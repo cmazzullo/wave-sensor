{
 "metadata": {
  "name": "",
  "signature": "sha256:05dd48269d292a9dbcf5533947f730613ec523c59ba6b797a5d707e3faeaa8a8"
 },
 "nbformat": 3,
 "nbformat_minor": 0,
 "worksheets": [
  {
   "cells": [
    {
     "cell_type": "heading",
     "level": 1,
     "metadata": {},
     "source": [
      "Setting Up and Extracting Data from TrueBlue Instruments"
     ]
    },
    {
     "cell_type": "heading",
     "level": 3,
     "metadata": {},
     "source": [
      "1. Installing TruWare and setting up Logging"
     ]
    },
    {
     "cell_type": "markdown",
     "metadata": {},
     "source": [
      "- First, in the Instrument Package navigate to \"Truware Installation/TruWare\u2122_Software_Version_1.82\".  Double click on the setup.exe to install the software. (This is the latest version.)\n",
      "- Next, insert the USB cable in to your machine once the other end is connected to the instrument.\n",
      "- To setup logging or \"tests\", click on the configure icon and click configure test.  You will want to setup the instrument accordingly changing the dates and names as needed.  When you click next, sure to click no when asked about a linear average.\n",
      "<br />\n",
      "<img src=\"SetupTest.jpg\" style=\"float: left; width: 800px; height: 550px\"/>\n",
      "<br />\n",
      "<p style=\"clear:both\"></p>\n",
      "- On the next screen click on start test.  Make sure not to disconnect the instrument via the software because it causes a glitch in the extraction process.  Do not detach usb from computer while the software is running! Simply detach the device from the USB cable and insert the battery.\n",
      "- After the logging is finished reconnect the instrument to your machine vai the USB cable, and click on the folder icon and select extract.\n",
      "- Click on upload and select parameters as needed and click extract.  The csv for the data will be located in the following directory %appdata%\\TruBlue\\TrueBlueData\\Site"
     ]
    },
    {
     "cell_type": "markdown",
     "metadata": {},
     "source": [
      "- There are manuals regarding the all processes regarding data logging and mainatiaing the instruments located at \"Truware Installation/PDF Files\"."
     ]
    },
    {
     "cell_type": "heading",
     "level": 3,
     "metadata": {},
     "source": [
      "2. Using SeaGui.exe (name pending) to Process Data"
     ]
    },
    {
     "cell_type": "heading",
     "level": 3,
     "metadata": {},
     "source": [
      "3. Using Script2.exe to Calculate Water Level"
     ]
    },
    {
     "cell_type": "code",
     "collapsed": false,
     "input": [],
     "language": "python",
     "metadata": {},
     "outputs": []
    }
   ],
   "metadata": {}
  }
 ]
}