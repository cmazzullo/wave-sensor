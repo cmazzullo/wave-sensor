{
 "metadata": {
  "name": "",
  "signature": "sha256:8e31b8113fc9470f17b43fc2bac7dd259f4b584723be7b5c03f3a7784be68a61"
 },
 "nbformat": 3,
 "nbformat_minor": 0,
 "worksheets": [
  {
   "cells": [
    {
     "cell_type": "heading",
     "level": 1,
     "metadata": {},
     "source": [
      "Setting Up and Extracting Data from TrueBlue Instruments"
     ]
    },
    {
     "cell_type": "heading",
     "level": 3,
     "metadata": {},
     "source": [
      "1. Installing TruWare and setting up Logging"
     ]
    },
    {
     "cell_type": "markdown",
     "metadata": {},
     "source": [
      "- First, in the Instrument Package navigate to \"Truware Installation/TruWare\u2122_Software_Version_1.82\".  Double click on the setup.exe to install the software. (This is the latest version.)\n",
      "- Next, insert the USB cable in to your machine once the other end is connected to the instrument.  The instrument should automatically begin to install drivers for the instrument.\n",
      "- To setup logging or \"tests\", click on the configure icon and click configure test.  You will want to setup the instrument accordingly changing the dates and names as needed.  When you click next, sure to click no when asked about a linear average.\n",
      "<br />\n",
      "<img src=\"SetupTest.jpg\" style=\"float: left; width: 800px; height: 550px; padding: 15px 0px\"/>\n",
      "<br />\n",
      "<p style=\"clear:both\"></p>\n",
      "- On the next screen click on start test.  Make sure not to disconnect the instrument via the software because it causes a glitch in the extraction process.  Do not detach usb from computer while the software is running! Simply detach the device from the USB cable and insert the battery.\n",
      "- After the logging is finished reconnect the instrument to your machine vai the USB cable, and click on the folder icon and select extract.\n",
      "- Click on upload and select parameters as needed and click extract.  The csv for the data will be located in the following directory %appdata%\\TruBlue\\TrueBlueData\\Site"
     ]
    },
    {
     "cell_type": "markdown",
     "metadata": {},
     "source": [
      "- There are manuals regarding the all processes regarding data logging and mainatiaing the instruments located at \"Truware Installation/PDF Files\"."
     ]
    },
    {
     "cell_type": "heading",
     "level": 3,
     "metadata": {},
     "source": [
      "2. Using SeaGui.exe and AirGui.exe to Process Data"
     ]
    },
    {
     "cell_type": "markdown",
     "metadata": {},
     "source": [
      "- Run the SeaGui.bat file, the GUI may take approx 30 seconds to load.  Afterwards fill in the information as shown below and click on \"Add File\" in order to add the csv file that was extracted from the instrument. \n",
      "- (There is also a button labeled \"Save Entires\" which saves the entires in the form fields so that one may load them later.)\n",
      "\n",
      "<img src=\"Sea_Gui_1.jpg\" style=\"float:left; width: 300px; height: 150px\" />\n",
      "<img src=\"Sea_Gui_2.jpg\" style=\"float:left; width: 300px; height: 250px; padding-left: 25px; margin-top:0px\" />\n",
      "\n",
      "<p style=\"padding-top: 20px; clear: both\" ></p>\n",
      "\n",
      "- Afterwards fill in the information as shown.  Make sure to pick the appropriate instrument in the dropdown menu, in this case it will always be Measurement Specialties.\n",
      "- (There is also a \"Save Etries\" option for these fields for the instruments.)\n",
      "- A window will then indicate that the file was processed successfully.  The resulting file will be a netCDF file with the 4hz measurements. (It will be located in the same folder that the original csv file was located.)\n",
      "\n",
      "<img src=\"Sea_Gui_3.jpg\" style=\"float:left; width: 300px; height: 400px\" />\n",
      "<img src=\"Sea_Gui_success.jpg\" style=\"float:left; width: 250px; height: 100px; padding-left: 25px; margin-top:0px\" />\n",
      "<img src=\"Sea_Gui_netcdf.jpg\" style=\"float:left; width: 500px; height: 200px; padding-left: 25px\" />"
     ]
    },
    {
     "cell_type": "markdown",
     "metadata": {},
     "source": [
      "- The AirGUI interface is very similar to that of the SeaGUI.  The only idfference is that there are less fields to fill out for the instrument. (Assuming I do not have to explain why there is an air gui interface.)"
     ]
    },
    {
     "cell_type": "heading",
     "level": 3,
     "metadata": {},
     "source": [
      "3. Using Depth Gui to Calculate Water Level"
     ]
    },
    {
     "cell_type": "markdown",
     "metadata": {},
     "source": [
      "- To begin run Depth_Gui.bat.  You will then have the option to choose a method of calculation and add netCDF files to process.  It is suggested that the linear wave method is used.  Add the Sea Pressure netCDF file and optionally the Air Pressure netCDF file by clicking on Browse next to the respective fields.  Click on \"Export to File\" to process the file/s.\n",
      "\n",
      "<img src=\"Depth_Gui_1.jpg\" style=\"float:left; height: 200px; width: 350px; padding: 15px 0px\" />\n",
      "\n",
      "<p style=\"clear:both\" ></p>\n",
      "\n",
      "- Navigate to the folder that you want to save the file in and name the file. Make sure to include the .nc extenion for a netCDF file.  Afterwards a window indicating that the files were successfully processed will pop up.\n",
      "\n",
      "<img src=\"Depth_Gui_2.jpg\" style=\"float:left; height: 200px; width: 350px; padding: 15px 0px\" />\n",
      "<img src=\"Sea_Gui_success.jpg\" style=\"float:left; width: 250px; height: 100px; padding-left: 25px\" />"
     ]
    },
    {
     "cell_type": "code",
     "collapsed": false,
     "input": [],
     "language": "python",
     "metadata": {},
     "outputs": []
    }
   ],
   "metadata": {}
  }
 ]
}