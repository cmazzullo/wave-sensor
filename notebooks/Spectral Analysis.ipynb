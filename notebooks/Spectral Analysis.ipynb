{
 "metadata": {
  "name": "",
  "signature": "sha256:48d7cc19b514b6d6cbcebc9a16ff9581249215c63ba89bf5ab4ed9928732ff4c"
 },
 "nbformat": 3,
 "nbformat_minor": 0,
 "worksheets": [
  {
   "cells": [
    {
     "cell_type": "heading",
     "level": 1,
     "metadata": {},
     "source": [
      "Spectral Analysis Package"
     ]
    },
    {
     "cell_type": "markdown",
     "metadata": {},
     "source": [
      "This is where we take the computed waterlevel run through script 3 and run methods in Fourier Analysis to determine the energy of the waves so that we can atnicipate possible damage from incoming storms.  This is not specific to environments on the East Coast, in both cases the water level will be shallow enought to apply our methods in linear wave theory."
     ]
    },
    {
     "cell_type": "markdown",
     "metadata": {},
     "source": [
      "We attempt to determine the energy in the following fashion:\n",
      "\n",
      "* Firstly:  We would like to establish the correct waterlevel in conjunction with our other FFT methods\n",
      "* Secondly: In order to establish energy readings as a regular practice when anticipating the damage of hurricanes we will implement user friendly interfaces in order to present to NOAA\n",
      "* Finally:  In attempt to establish a new precedent for this research going forward we will vigousouly document all of our methods in order to alow other researchers to manipulate"
     ]
    },
    {
     "cell_type": "markdown",
     "metadata": {},
     "source": []
    }
   ],
   "metadata": {}
  }
 ]
}