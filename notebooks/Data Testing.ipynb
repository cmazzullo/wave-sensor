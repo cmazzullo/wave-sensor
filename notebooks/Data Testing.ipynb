{
 "metadata": {
  "name": "",
  "signature": "sha256:f465e856fc864647494d90d5bf6b304af3f8f3f143b08af149ccee61389f7a22"
 },
 "nbformat": 3,
 "nbformat_minor": 0,
 "worksheets": [
  {
   "cells": [
    {
     "cell_type": "heading",
     "level": 1,
     "metadata": {},
     "source": [
      "Automatic Data Tests"
     ]
    },
    {
     "cell_type": "markdown",
     "metadata": {},
     "source": [
      "Before the data extracted from the instruments is written to a netCDF file three tests will run to ensure the quality of the data.  Afterwards a variable, e.g. Pressure_QC, will be created in the netCDF file to indicate which tests each measurement passes or fails.  Each measurement will have a corresponding 4 bit binary number to flag which test it passed/failed.  If the datapoint passes the test a 1111 will be returned, otherwise a zero will be returned in the corresponding digit.  The following tests are run:\n",
      "\n",
      "<b style=\"font-size:9pt\">*The most significant (left-most) bit will always have a 1 as a placeholder</b>\n",
      "\n",
      "<table style=\"float:left\"><tr><th>Test</th><th>Description</th><th>Fail Value</th></tr>\n",
      "<tr><td>Stuck Sensor Test</td><td>Checks to see if the last five or more previous values are identical.</td><td>1110</td></tr>\n",
      "<tr><td>Valid Range Test</td><td>Determines if the datapoint falls within accepted minimums and maximums.</td><td>1101</td></tr>\n",
      "<tr><td>Valid Rate of Change Test</td><td>Determines if there is a valid rate of change between the current a previous value.</td><td>1011</td></tr></table>"
     ]
    },
    {
     "cell_type": "markdown",
     "metadata": {},
     "source": [
      "The final 4 bit number will be the product of a bitwise AND of all three returned values. For example, if a data point were to fail the valid range and rate of change tests but not the stuck sensor test, then its corresponding value would be 1001. This is because for the three values that are returned, (1111, 1101, 1011),  all the right-most bits are 1 so the output for the final number's right-most bit would be 1.  Since not all values are 1 for the two other bit positions the output is 0, the final value being 1001.  In the event all tests are passed a 1111 will be returned.  "
     ]
    },
    {
     "cell_type": "heading",
     "level": 4,
     "metadata": {},
     "source": [
      "An example graph of the testing:"
     ]
    },
    {
     "cell_type": "markdown",
     "metadata": {},
     "source": [
      "<img style=\"float:left;width: 900px; height: 400px; margin-left:-50px\" src=\"Images/Pressure Data Test.png\" />"
     ]
    },
    {
     "cell_type": "heading",
     "level": 3,
     "metadata": {},
     "source": [
      "The Full Method"
     ]
    },
    {
     "cell_type": "code",
     "collapsed": false,
     "input": [
      "import numpy as np\n",
      "from bitarray import bitarray as bit\n",
      "import sys\n",
      "sys.path.append('..')\n",
      "class DataTests(object):\n",
      "    \"\"\"QC tests are performed on any data written to a netcdf file\"\"\"\n",
      "     \n",
      "    def __init__(self):\n",
      "        self.five_count_list = list()\n",
      "        self.pressure_data = None\n",
      "        self.valid_pressure_range = [-1000,1000]\n",
      "        self.pressure_max_rate_of_change = 10\n",
      "        self.depth_data = None\n",
      "        self.valid_depth_range = [-1000,1000]\n",
      "        self.depth_max_rate_of_change = 20\n",
      "        self.temperature_data = None\n",
      "        self.valid_temperature_range = [-20,50]\n",
      "        self.temperature_max_rate_of_change = None\n",
      "        self.prev_value = np.NaN\n",
      "        \n",
      "       \n",
      "    def select_tests(self, data_selection):\n",
      "        '''Runs all of the netcdf Tests on the selected data, then performs an or binary mask (and) for\n",
      "        those that passed, 1 for pass 0 for fail, and returns an unisgned 4bit integer, leading 1 is just a placeholder'''  \n",
      "        \n",
      "        if data_selection == 'depth':\n",
      "            return self.run_tests(self.depth_data, self.valid_depth_range, self.depth_max_rate_of_change)\n",
      "        elif data_selection == 'temperature':\n",
      "            return self.run_tests(self.temperature_data, self.valid_temperature_range \\\n",
      "                                  , self.temperature_max_rate_of_change)\n",
      "        else:\n",
      "            return self.run_tests(self.pressure_data, self.valid_pressure_range, \\\n",
      "                                   self.pressure_max_rate_of_change)\n",
      "        \n",
      "  \n",
      "    def run_tests(self, data, data_range, rate_of_change):\n",
      "        \"\"\"Runs all of the data tests\"\"\"\n",
      "        \n",
      "        bit_array1 = [self.get_1_value(x) for x in data]\n",
      "        bit_array2 = [self.get_2_value(x, data_range) for x in data]\n",
      "        bit_array3 = [self.get_3_value(x, rate_of_change) for x in data]\n",
      "       \n",
      "        final_bits = [bit_array1[x] & bit_array2[x] & bit_array3[x] for x in range(0,len(data))]\n",
      "        \n",
      "        return [x.to01() for x in final_bits]\n",
      "    \n",
      "   \n",
      "    def get_1_value(self,x):\n",
      "        \"\"\"Checks to see if the sensor recorded 5 identical measurements previous the the current measurement, if so\n",
      "        indicate an issue with a zero in the 1 bit\"\"\"\n",
      "           \n",
      "        if len(self.five_count_list) > 5:\n",
      "            self.five_count_list.pop()\n",
      "            \n",
      "        flags = np.count_nonzero(np.equal(x,self.five_count_list))\n",
      "        self.five_count_list.insert(0,x)\n",
      "        \n",
      "        if flags <= 4:\n",
      "            return bit('1111')\n",
      "        else:\n",
      "            return bit('1110')  \n",
      "            \n",
      "    def get_2_value(self, x, data_range):\n",
      "        '''Checks if the data point is within a valid range'''\n",
      "        \n",
      "        if np.greater_equal(x,data_range[0]) and \\\n",
      "        np.less_equal(x,data_range[1]):\n",
      "            return bit('1111')\n",
      "        else:\n",
      "            return bit('1101')\n",
      "        \n",
      "    def get_3_value(self, x, rate_of_change):\n",
      "        '''Checks to see if rate of change is within valid range'''\n",
      "        \n",
      "        if np.isnan(self.prev_value) or \\\n",
      "        np.less_equal(np.abs(np.subtract(x,self.prev_value)), rate_of_change):\n",
      "            self.prev_value = x\n",
      "            return bit('1111')\n",
      "        else:\n",
      "            self.prev_value = x\n",
      "            return bit('1011')"
     ],
     "language": "python",
     "metadata": {},
     "outputs": []
    }
   ],
   "metadata": {}
  }
 ]
}