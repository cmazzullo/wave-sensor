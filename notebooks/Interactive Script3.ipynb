{
 "metadata": {
  "name": "",
  "signature": "sha256:004f32e5f24af9607a3855ee374b904d37f69b7a1e7dd69efdd8c62e6ac4de74"
 },
 "nbformat": 3,
 "nbformat_minor": 0,
 "worksheets": [
  {
   "cells": [
    {
     "cell_type": "code",
     "collapsed": false,
     "input": [
      "%matplotlib inline\n",
      "import matplotlib.pyplot as plt\n",
      "import numpy as np\n",
      "# import mpld3\n",
      "import IPython.html.widgets as widgets\n",
      "from IPython.display import Javascript, display, clear_output\n",
      "plt.rcParams['figure.figsize'] = (10, 5)\n",
      "from TimeDomainAnalysis.script3 import MovingAverage #the directories have been moved around...\n",
      "# mpld3.enable_notebook()"
     ],
     "language": "python",
     "metadata": {},
     "outputs": [
      {
       "ename": "ImportError",
       "evalue": "No module named 'TimeDomainAnalysis'",
       "output_type": "pyerr",
       "traceback": [
        "\u001b[1;31m---------------------------------------------------------------------------\u001b[0m\n\u001b[1;31mImportError\u001b[0m                               Traceback (most recent call last)",
        "\u001b[1;32m<ipython-input-1-fa5075d02da7>\u001b[0m in \u001b[0;36m<module>\u001b[1;34m()\u001b[0m\n\u001b[0;32m      6\u001b[0m \u001b[1;32mfrom\u001b[0m \u001b[0mIPython\u001b[0m\u001b[1;33m.\u001b[0m\u001b[0mdisplay\u001b[0m \u001b[1;32mimport\u001b[0m \u001b[0mJavascript\u001b[0m\u001b[1;33m,\u001b[0m \u001b[0mdisplay\u001b[0m\u001b[1;33m,\u001b[0m \u001b[0mclear_output\u001b[0m\u001b[1;33m\u001b[0m\u001b[0m\n\u001b[0;32m      7\u001b[0m \u001b[0mplt\u001b[0m\u001b[1;33m.\u001b[0m\u001b[0mrcParams\u001b[0m\u001b[1;33m[\u001b[0m\u001b[1;34m'figure.figsize'\u001b[0m\u001b[1;33m]\u001b[0m \u001b[1;33m=\u001b[0m \u001b[1;33m(\u001b[0m\u001b[1;36m10\u001b[0m\u001b[1;33m,\u001b[0m \u001b[1;36m5\u001b[0m\u001b[1;33m)\u001b[0m\u001b[1;33m\u001b[0m\u001b[0m\n\u001b[1;32m----> 8\u001b[1;33m \u001b[1;32mfrom\u001b[0m \u001b[0mTimeDomainAnalysis\u001b[0m\u001b[1;33m.\u001b[0m\u001b[0mscript3\u001b[0m \u001b[1;32mimport\u001b[0m \u001b[0mMovingAverage\u001b[0m\u001b[1;33m\u001b[0m\u001b[0m\n\u001b[0m\u001b[0;32m      9\u001b[0m \u001b[1;31m# mpld3.enable_notebook()\u001b[0m\u001b[1;33m\u001b[0m\u001b[1;33m\u001b[0m\u001b[0m\n",
        "\u001b[1;31mImportError\u001b[0m: No module named 'TimeDomainAnalysis'"
       ]
      }
     ],
     "prompt_number": 1
    },
    {
     "cell_type": "code",
     "collapsed": false,
     "input": [
      "data = MovingAverage()\n",
      "data.in_file_name = 'TimeDomainAnalysis\\\\script3in.nc'\n",
      "data.collect_data()\n",
      "\n",
      "def interact(Window_in_Seconds, File_Format, File_Name ):\n",
      "    data.calc_moving_average(Window_in_Seconds,File_Format,File_Name)"
     ],
     "language": "python",
     "metadata": {},
     "outputs": []
    },
    {
     "cell_type": "code",
     "collapsed": false,
     "input": [
      "seconds = {'15': 15,'30':30,'60':60,\n",
      "'600':600, '3600':3600, '43200':43200}\n",
      "file_format = sorted({\"png\": \"png\",\"pdf\":\"pdf\"}, reverse=True)\n",
      "\n",
      "file_name = \"Rolling_Average\"\n",
      "\n",
      "widgets.interact(interact, Window_in_Seconds = seconds, File_Format = file_format, File_Name=file_name)"
     ],
     "language": "python",
     "metadata": {},
     "outputs": []
    },
    {
     "cell_type": "code",
     "collapsed": false,
     "input": [],
     "language": "python",
     "metadata": {},
     "outputs": []
    }
   ],
   "metadata": {}
  }
 ]
}