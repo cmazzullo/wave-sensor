{
 "metadata": {
  "name": "",
  "signature": "sha256:26364059a1b4ef81086eb1e8bd0ad5cda82eb72e14d498f5c6e0f7fdc606f652"
 },
 "nbformat": 3,
 "nbformat_minor": 0,
 "worksheets": [
  {
   "cells": [
    {
     "cell_type": "heading",
     "level": 1,
     "metadata": {},
     "source": [
      "Time Domain Analysis"
     ]
    },
    {
     "cell_type": "markdown",
     "metadata": {},
     "source": [
      "Once we have the calculated depth for each point of corrected pressure we can run the wave hieghts through a probability distribution in order to create an exceedance graph.  The standard probability distribution used is the Rayleigh which is a Weibull probability distribution with a set sahpe parameter of 2.0.  However, this distribution alone can be costly because it tends to overestimate the wave height exceedance, which can be expesnive in terms of creating infrastructure to defend against their damage.  That is why we use the Battjes-Groendjik adjusted probabliity distribution to offset the findings"
     ]
    },
    {
     "cell_type": "heading",
     "level": 2,
     "metadata": {},
     "source": [
      "Script 3"
     ]
    },
    {
     "cell_type": "markdown",
     "metadata": {},
     "source": [
      "We are applying a moving average to the data with a user selected window size.  There will also be afilter method in order to focus the filtered data on a particular time duration."
     ]
    },
    {
     "cell_type": "code",
     "collapsed": false,
     "input": [],
     "language": "python",
     "metadata": {},
     "outputs": []
    }
   ],
   "metadata": {}
  }
 ]
}