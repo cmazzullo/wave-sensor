{
 "metadata": {
  "name": "",
  "signature": "sha256:5335b2c73ec2335a0dfe3fd788814518a112de9f793ad9dd295ff9b5a286c8a7"
 },
 "nbformat": 3,
 "nbformat_minor": 0,
 "worksheets": [
  {
   "cells": [
    {
     "cell_type": "heading",
     "level": 1,
     "metadata": {},
     "source": [
      "Time Domain Analysis"
     ]
    },
    {
     "cell_type": "markdown",
     "metadata": {},
     "source": [
      "Once we have the calculated depth for each point of corrected pressure we can run the wave hieghts through a probability distribution in order to create an exceedance graph.  The standard probability distribution used is the Rayleigh which is a Weibull probability distribution with a set sahpe parameter of 2.0.  However, this distribution alone can be costly because it tends to overestimate the wave height exceedance, which can be expesnive in terms of creating infrastructure to defend against their damage.  That is why we use the Battjes-Groendjik adjusted probabliity distribution to offset the findings"
     ]
    }
   ],
   "metadata": {}
  }
 ]
}