{
 "metadata": {
  "name": "",
  "signature": "sha256:6e47da5ca4dd291f2c95b689bac285f2df4697cbbd8335df978dbfbd1bcdad31"
 },
 "nbformat": 3,
 "nbformat_minor": 0,
 "worksheets": [
  {
   "cells": [
    {
     "cell_type": "code",
     "collapsed": false,
     "input": [
      "%matplotlib inline\n",
      "import matplotlib.pyplot as plt\n",
      "import numpy as np\n",
      "import mpld3\n",
      "import grapher\n",
      "import pandas as pd\n",
      "import depth\n",
      "\n",
      "mpld3.enable_notebook()"
     ],
     "language": "python",
     "metadata": {},
     "outputs": [
      {
       "ename": "ImportError",
       "evalue": "No module named 'grapher'",
       "output_type": "pyerr",
       "traceback": [
        "\u001b[1;31m---------------------------------------------------------------------------\u001b[0m\n\u001b[1;31mImportError\u001b[0m                               Traceback (most recent call last)",
        "\u001b[1;32m<ipython-input-2-c2f6a3a12b78>\u001b[0m in \u001b[0;36m<module>\u001b[1;34m()\u001b[0m\n\u001b[0;32m      3\u001b[0m \u001b[1;32mimport\u001b[0m \u001b[0mnumpy\u001b[0m \u001b[1;32mas\u001b[0m \u001b[0mnp\u001b[0m\u001b[1;33m\u001b[0m\u001b[0m\n\u001b[0;32m      4\u001b[0m \u001b[1;32mimport\u001b[0m \u001b[0mmpld3\u001b[0m\u001b[1;33m\u001b[0m\u001b[0m\n\u001b[1;32m----> 5\u001b[1;33m \u001b[1;32mimport\u001b[0m \u001b[0mgrapher\u001b[0m\u001b[1;33m\u001b[0m\u001b[0m\n\u001b[0m\u001b[0;32m      6\u001b[0m \u001b[1;32mimport\u001b[0m \u001b[0mpandas\u001b[0m \u001b[1;32mas\u001b[0m \u001b[0mpd\u001b[0m\u001b[1;33m\u001b[0m\u001b[0m\n\u001b[0;32m      7\u001b[0m \u001b[1;32mimport\u001b[0m \u001b[0mdepth\u001b[0m\u001b[1;33m\u001b[0m\u001b[0m\n",
        "\u001b[1;31mImportError\u001b[0m: No module named 'grapher'"
       ]
      }
     ],
     "prompt_number": 2
    },
    {
     "cell_type": "code",
     "collapsed": false,
     "input": [
      "graph = grapher.Grapher()\n",
      "graph.plot_multiple_series_graphs(True)"
     ],
     "language": "python",
     "metadata": {},
     "outputs": [
      {
       "ename": "NameError",
       "evalue": "name 'grapher' is not defined",
       "output_type": "pyerr",
       "traceback": [
        "\u001b[1;31m---------------------------------------------------------------------------\u001b[0m\n\u001b[1;31mNameError\u001b[0m                                 Traceback (most recent call last)",
        "\u001b[1;32m<ipython-input-1-78b65ee8387b>\u001b[0m in \u001b[0;36m<module>\u001b[1;34m()\u001b[0m\n\u001b[1;32m----> 1\u001b[1;33m \u001b[0mgraph\u001b[0m \u001b[1;33m=\u001b[0m \u001b[0mgrapher\u001b[0m\u001b[1;33m.\u001b[0m\u001b[0mGrapher\u001b[0m\u001b[1;33m(\u001b[0m\u001b[1;33m)\u001b[0m\u001b[1;33m\u001b[0m\u001b[0m\n\u001b[0m\u001b[0;32m      2\u001b[0m \u001b[0mgraph\u001b[0m\u001b[1;33m.\u001b[0m\u001b[0mplot_multiple_series_graphs\u001b[0m\u001b[1;33m(\u001b[0m\u001b[1;32mTrue\u001b[0m\u001b[1;33m)\u001b[0m\u001b[1;33m\u001b[0m\u001b[0m\n",
        "\u001b[1;31mNameError\u001b[0m: name 'grapher' is not defined"
       ]
      }
     ],
     "prompt_number": 1
    },
    {
     "cell_type": "code",
     "collapsed": false,
     "input": [
      "\n",
      "dataFrame1 = pd.DataFrame({\"presssure\": pd.Series([1,2,3,4,5])})\n",
      "dataFrame1\n",
      "\n",
      "dataFrame2 = pd.DataFrame({\"air_pressure\": pd.Series([2,3,4])})\n",
      "dataFrame2\n",
      "\n",
      "df3 = pd.DataFrame.join(dataFrame1,dataFrame2)\n",
      "df3"
     ],
     "language": "python",
     "metadata": {},
     "outputs": [
      {
       "html": [
        "<div style=\"max-height:1000px;max-width:1500px;overflow:auto;\">\n",
        "<table border=\"1\" class=\"dataframe\">\n",
        "  <thead>\n",
        "    <tr style=\"text-align: right;\">\n",
        "      <th></th>\n",
        "      <th>presssure</th>\n",
        "      <th>air_pressure</th>\n",
        "    </tr>\n",
        "  </thead>\n",
        "  <tbody>\n",
        "    <tr>\n",
        "      <th>0</th>\n",
        "      <td> 1</td>\n",
        "      <td>  2</td>\n",
        "    </tr>\n",
        "    <tr>\n",
        "      <th>1</th>\n",
        "      <td> 2</td>\n",
        "      <td>  3</td>\n",
        "    </tr>\n",
        "    <tr>\n",
        "      <th>2</th>\n",
        "      <td> 3</td>\n",
        "      <td>  4</td>\n",
        "    </tr>\n",
        "    <tr>\n",
        "      <th>3</th>\n",
        "      <td> 4</td>\n",
        "      <td>NaN</td>\n",
        "    </tr>\n",
        "    <tr>\n",
        "      <th>4</th>\n",
        "      <td> 5</td>\n",
        "      <td>NaN</td>\n",
        "    </tr>\n",
        "  </tbody>\n",
        "</table>\n",
        "</div>"
       ],
       "metadata": {},
       "output_type": "pyout",
       "prompt_number": 11,
       "text": [
        "   presssure  air_pressure\n",
        "0          1             2\n",
        "1          2             3\n",
        "2          3             4\n",
        "3          4           NaN\n",
        "4          5           NaN"
       ]
      }
     ],
     "prompt_number": 11
    },
    {
     "cell_type": "code",
     "collapsed": false,
     "input": [
      "for x in df3.iteritems():\n",
      "    print(x)"
     ],
     "language": "python",
     "metadata": {},
     "outputs": [
      {
       "output_type": "stream",
       "stream": "stdout",
       "text": [
        "('presssure', 0    1\n",
        "1    2\n",
        "2    3\n",
        "3    4\n",
        "4    5\n",
        "Name: presssure, dtype: int64)\n",
        "('air_pressure', 0     2\n",
        "1     3\n",
        "2     4\n",
        "3   NaN\n",
        "4   NaN\n",
        "Name: air_pressure, dtype: float64)\n"
       ]
      }
     ],
     "prompt_number": 12
    },
    {
     "cell_type": "code",
     "collapsed": false,
     "input": [
      "a = depth.Depth()\n",
      "df4 = a.acquire_data()\n",
      "df4"
     ],
     "language": "python",
     "metadata": {},
     "outputs": [
      {
       "html": [
        "<div style=\"max-height:1000px;max-width:1500px;overflow:auto;\">\n",
        "<table border=\"1\" class=\"dataframe\">\n",
        "  <thead>\n",
        "    <tr style=\"text-align: right;\">\n",
        "      <th></th>\n",
        "      <th>Pressure</th>\n",
        "      <th>Air Pressure</th>\n",
        "    </tr>\n",
        "  </thead>\n",
        "  <tbody>\n",
        "    <tr>\n",
        "      <th>2014-05-13 10:45:00+00:00</th>\n",
        "      <td> 29.9473</td>\n",
        "      <td> 29.9473</td>\n",
        "    </tr>\n",
        "    <tr>\n",
        "      <th>2014-05-13 10:45:00.250000+00:00</th>\n",
        "      <td> 23.9473</td>\n",
        "      <td>     NaN</td>\n",
        "    </tr>\n",
        "    <tr>\n",
        "      <th>2014-05-13 10:45:00.500000+00:00</th>\n",
        "      <td> 29.9473</td>\n",
        "      <td>     NaN</td>\n",
        "    </tr>\n",
        "    <tr>\n",
        "      <th>2014-05-13 10:45:00.750000+00:00</th>\n",
        "      <td> 21.9473</td>\n",
        "      <td>     NaN</td>\n",
        "    </tr>\n",
        "    <tr>\n",
        "      <th>2014-05-13 10:45:01+00:00</th>\n",
        "      <td> 20.9473</td>\n",
        "      <td>     NaN</td>\n",
        "    </tr>\n",
        "    <tr>\n",
        "      <th>2014-05-13 10:45:01.250000+00:00</th>\n",
        "      <td> 12.9473</td>\n",
        "      <td>     NaN</td>\n",
        "    </tr>\n",
        "    <tr>\n",
        "      <th>2014-05-13 10:45:01.500000+00:00</th>\n",
        "      <td> 12.9473</td>\n",
        "      <td> 20.9473</td>\n",
        "    </tr>\n",
        "    <tr>\n",
        "      <th>2014-05-13 10:45:01.750000+00:00</th>\n",
        "      <td> 29.9473</td>\n",
        "      <td>     NaN</td>\n",
        "    </tr>\n",
        "    <tr>\n",
        "      <th>2014-05-13 10:45:02+00:00</th>\n",
        "      <td> 21.9473</td>\n",
        "      <td>     NaN</td>\n",
        "    </tr>\n",
        "    <tr>\n",
        "      <th>2014-05-13 10:45:02.250000+00:00</th>\n",
        "      <td> 20.9473</td>\n",
        "      <td>     NaN</td>\n",
        "    </tr>\n",
        "    <tr>\n",
        "      <th>2014-05-13 10:45:02.500000+00:00</th>\n",
        "      <td> 14.9473</td>\n",
        "      <td>     NaN</td>\n",
        "    </tr>\n",
        "    <tr>\n",
        "      <th>2014-05-13 10:45:02.750000+00:00</th>\n",
        "      <td> 29.9473</td>\n",
        "      <td>     NaN</td>\n",
        "    </tr>\n",
        "    <tr>\n",
        "      <th>2014-05-13 10:45:03+00:00</th>\n",
        "      <td> 25.9473</td>\n",
        "      <td> 21.9473</td>\n",
        "    </tr>\n",
        "  </tbody>\n",
        "</table>\n",
        "</div>"
       ],
       "metadata": {},
       "output_type": "pyout",
       "prompt_number": 3,
       "text": [
        "                                  Pressure  Air Pressure\n",
        "2014-05-13 10:45:00+00:00          29.9473       29.9473\n",
        "2014-05-13 10:45:00.250000+00:00   23.9473           NaN\n",
        "2014-05-13 10:45:00.500000+00:00   29.9473           NaN\n",
        "2014-05-13 10:45:00.750000+00:00   21.9473           NaN\n",
        "2014-05-13 10:45:01+00:00          20.9473           NaN\n",
        "2014-05-13 10:45:01.250000+00:00   12.9473           NaN\n",
        "2014-05-13 10:45:01.500000+00:00   12.9473       20.9473\n",
        "2014-05-13 10:45:01.750000+00:00   29.9473           NaN\n",
        "2014-05-13 10:45:02+00:00          21.9473           NaN\n",
        "2014-05-13 10:45:02.250000+00:00   20.9473           NaN\n",
        "2014-05-13 10:45:02.500000+00:00   14.9473           NaN\n",
        "2014-05-13 10:45:02.750000+00:00   29.9473           NaN\n",
        "2014-05-13 10:45:03+00:00          25.9473       21.9473"
       ]
      }
     ],
     "prompt_number": 3
    },
    {
     "cell_type": "code",
     "collapsed": false,
     "input": [
      "np.isnan(df4['Air Pressure'])"
     ],
     "language": "python",
     "metadata": {},
     "outputs": [
      {
       "metadata": {},
       "output_type": "pyout",
       "prompt_number": 4,
       "text": [
        "2014-05-13 10:45:00+00:00           False\n",
        "2014-05-13 10:45:00.250000+00:00     True\n",
        "2014-05-13 10:45:00.500000+00:00     True\n",
        "2014-05-13 10:45:00.750000+00:00     True\n",
        "2014-05-13 10:45:01+00:00            True\n",
        "2014-05-13 10:45:01.250000+00:00     True\n",
        "2014-05-13 10:45:01.500000+00:00    False\n",
        "2014-05-13 10:45:01.750000+00:00     True\n",
        "2014-05-13 10:45:02+00:00            True\n",
        "2014-05-13 10:45:02.250000+00:00     True\n",
        "2014-05-13 10:45:02.500000+00:00     True\n",
        "2014-05-13 10:45:02.750000+00:00     True\n",
        "2014-05-13 10:45:03+00:00           False\n",
        "Name: Air Pressure, dtype: bool"
       ]
      }
     ],
     "prompt_number": 4
    },
    {
     "cell_type": "code",
     "collapsed": false,
     "input": [],
     "language": "python",
     "metadata": {},
     "outputs": []
    }
   ],
   "metadata": {}
  }
 ]
}