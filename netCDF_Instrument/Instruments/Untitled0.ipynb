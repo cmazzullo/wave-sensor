{
 "metadata": {
  "name": "",
  "signature": "sha256:6e47da5ca4dd291f2c95b689bac285f2df4697cbbd8335df978dbfbd1bcdad31"
 },
 "nbformat": 3,
 "nbformat_minor": 0,
 "worksheets": [
  {
   "cells": [
    {
     "cell_type": "code",
     "collapsed": false,
     "input": [
      "%matplotlib inline\n",
      "import matplotlib.pyplot as plt\n",
      "import numpy as np\n",
      "import mpld3\n",
      "import grapher\n",
      "import pandas as pd\n",
      "import depth\n",
      "\n",
      "mpld3.enable_notebook()"
     ],
     "language": "python",
     "metadata": {},
     "outputs": [],
     "prompt_number": 1
    },
    {
     "cell_type": "code",
     "collapsed": false,
     "input": [
      "graph = grapher.Grapher()\n",
      "graph.plot_multiple_series_graphs(True)"
     ],
     "language": "python",
     "metadata": {},
     "outputs": [
      {
       "ename": "KeyError",
       "evalue": "0.0",
       "output_type": "pyerr",
       "traceback": [
        "\u001b[1;31m---------------------------------------------------------------------------\u001b[0m\n\u001b[1;31mKeyError\u001b[0m                                  Traceback (most recent call last)",
        "\u001b[1;32m<ipython-input-4-78b65ee8387b>\u001b[0m in \u001b[0;36m<module>\u001b[1;34m()\u001b[0m\n\u001b[0;32m      1\u001b[0m \u001b[0mgraph\u001b[0m \u001b[1;33m=\u001b[0m \u001b[0mgrapher\u001b[0m\u001b[1;33m.\u001b[0m\u001b[0mGrapher\u001b[0m\u001b[1;33m(\u001b[0m\u001b[1;33m)\u001b[0m\u001b[1;33m\u001b[0m\u001b[0m\n\u001b[1;32m----> 2\u001b[1;33m \u001b[0mgraph\u001b[0m\u001b[1;33m.\u001b[0m\u001b[0mplot_multiple_series_graphs\u001b[0m\u001b[1;33m(\u001b[0m\u001b[1;32mTrue\u001b[0m\u001b[1;33m)\u001b[0m\u001b[1;33m\u001b[0m\u001b[0m\n\u001b[0m",
        "\u001b[1;32mC:\\Users\\Gregory\\Documents\\GitHub\\wave-sensor\\netCDF_Instrument\\Instruments\\grapher.py\u001b[0m in \u001b[0;36mplot_multiple_series_graphs\u001b[1;34m(self, pressure_bool, zero_mean, ylimits)\u001b[0m\n\u001b[0;32m    123\u001b[0m         \u001b[1;32mfor\u001b[0m \u001b[0mx\u001b[0m \u001b[1;32min\u001b[0m \u001b[0mself\u001b[0m\u001b[1;33m.\u001b[0m\u001b[0mdataframe\u001b[0m\u001b[1;33m:\u001b[0m\u001b[1;33m\u001b[0m\u001b[0m\n\u001b[0;32m    124\u001b[0m \u001b[1;33m\u001b[0m\u001b[0m\n\u001b[1;32m--> 125\u001b[1;33m             \u001b[1;32mif\u001b[0m \u001b[0mself\u001b[0m\u001b[1;33m.\u001b[0m\u001b[0mdataframe\u001b[0m\u001b[1;33m[\u001b[0m\u001b[0mx\u001b[0m\u001b[1;33m]\u001b[0m\u001b[1;33m[\u001b[0m\u001b[1;36m0\u001b[0m\u001b[1;33m]\u001b[0m \u001b[1;33m!=\u001b[0m \u001b[1;32mNone\u001b[0m\u001b[1;33m:\u001b[0m\u001b[1;33m\u001b[0m\u001b[0m\n\u001b[0m\u001b[0;32m    126\u001b[0m                 \u001b[0mself\u001b[0m\u001b[1;33m.\u001b[0m\u001b[0mmean_list\u001b[0m\u001b[1;33m.\u001b[0m\u001b[0mappend\u001b[0m\u001b[1;33m(\u001b[0m\u001b[0mnp\u001b[0m\u001b[1;33m.\u001b[0m\u001b[0mmean\u001b[0m\u001b[1;33m(\u001b[0m\u001b[0mself\u001b[0m\u001b[1;33m.\u001b[0m\u001b[0mdataframe\u001b[0m\u001b[1;33m[\u001b[0m\u001b[0mx\u001b[0m\u001b[1;33m]\u001b[0m\u001b[1;33m)\u001b[0m\u001b[1;33m)\u001b[0m\u001b[1;33m\u001b[0m\u001b[0m\n\u001b[0;32m    127\u001b[0m                 \u001b[0mself\u001b[0m\u001b[1;33m.\u001b[0m\u001b[0mnames\u001b[0m\u001b[1;33m.\u001b[0m\u001b[0mappend\u001b[0m\u001b[1;33m(\u001b[0m\u001b[0mx\u001b[0m\u001b[1;33m)\u001b[0m\u001b[1;33m\u001b[0m\u001b[0m\n",
        "\u001b[1;32mC:\\Python34\\lib\\site-packages\\pandas\\core\\series.py\u001b[0m in \u001b[0;36m__getitem__\u001b[1;34m(self, key)\u001b[0m\n\u001b[0;32m    477\u001b[0m     \u001b[1;32mdef\u001b[0m \u001b[0m__getitem__\u001b[0m\u001b[1;33m(\u001b[0m\u001b[0mself\u001b[0m\u001b[1;33m,\u001b[0m \u001b[0mkey\u001b[0m\u001b[1;33m)\u001b[0m\u001b[1;33m:\u001b[0m\u001b[1;33m\u001b[0m\u001b[0m\n\u001b[0;32m    478\u001b[0m         \u001b[1;32mtry\u001b[0m\u001b[1;33m:\u001b[0m\u001b[1;33m\u001b[0m\u001b[0m\n\u001b[1;32m--> 479\u001b[1;33m             \u001b[0mresult\u001b[0m \u001b[1;33m=\u001b[0m \u001b[0mself\u001b[0m\u001b[1;33m.\u001b[0m\u001b[0mindex\u001b[0m\u001b[1;33m.\u001b[0m\u001b[0mget_value\u001b[0m\u001b[1;33m(\u001b[0m\u001b[0mself\u001b[0m\u001b[1;33m,\u001b[0m \u001b[0mkey\u001b[0m\u001b[1;33m)\u001b[0m\u001b[1;33m\u001b[0m\u001b[0m\n\u001b[0m\u001b[0;32m    480\u001b[0m \u001b[1;33m\u001b[0m\u001b[0m\n\u001b[0;32m    481\u001b[0m             \u001b[1;32mif\u001b[0m \u001b[1;32mnot\u001b[0m \u001b[0mnp\u001b[0m\u001b[1;33m.\u001b[0m\u001b[0misscalar\u001b[0m\u001b[1;33m(\u001b[0m\u001b[0mresult\u001b[0m\u001b[1;33m)\u001b[0m\u001b[1;33m:\u001b[0m\u001b[1;33m\u001b[0m\u001b[0m\n",
        "\u001b[1;32mC:\\Python34\\lib\\site-packages\\pandas\\core\\index.py\u001b[0m in \u001b[0;36mget_value\u001b[1;34m(self, series, key)\u001b[0m\n\u001b[0;32m   2010\u001b[0m \u001b[1;33m\u001b[0m\u001b[0m\n\u001b[0;32m   2011\u001b[0m         \u001b[0mk\u001b[0m \u001b[1;33m=\u001b[0m \u001b[0m_values_from_object\u001b[0m\u001b[1;33m(\u001b[0m\u001b[0mkey\u001b[0m\u001b[1;33m)\u001b[0m\u001b[1;33m\u001b[0m\u001b[0m\n\u001b[1;32m-> 2012\u001b[1;33m         \u001b[0mloc\u001b[0m \u001b[1;33m=\u001b[0m \u001b[0mself\u001b[0m\u001b[1;33m.\u001b[0m\u001b[0mget_loc\u001b[0m\u001b[1;33m(\u001b[0m\u001b[0mk\u001b[0m\u001b[1;33m)\u001b[0m\u001b[1;33m\u001b[0m\u001b[0m\n\u001b[0m\u001b[0;32m   2013\u001b[0m         \u001b[0mnew_values\u001b[0m \u001b[1;33m=\u001b[0m \u001b[0mseries\u001b[0m\u001b[1;33m.\u001b[0m\u001b[0mvalues\u001b[0m\u001b[1;33m[\u001b[0m\u001b[0mloc\u001b[0m\u001b[1;33m]\u001b[0m\u001b[1;33m\u001b[0m\u001b[0m\n\u001b[0;32m   2014\u001b[0m         \u001b[1;32mif\u001b[0m \u001b[0mnp\u001b[0m\u001b[1;33m.\u001b[0m\u001b[0misscalar\u001b[0m\u001b[1;33m(\u001b[0m\u001b[0mnew_values\u001b[0m\u001b[1;33m)\u001b[0m\u001b[1;33m:\u001b[0m\u001b[1;33m\u001b[0m\u001b[0m\n",
        "\u001b[1;32mC:\\Python34\\lib\\site-packages\\pandas\\core\\index.py\u001b[0m in \u001b[0;36mget_loc\u001b[1;34m(self, key)\u001b[0m\n\u001b[0;32m   2060\u001b[0m             \u001b[1;32mexcept\u001b[0m \u001b[0mValueError\u001b[0m\u001b[1;33m:\u001b[0m\u001b[1;33m\u001b[0m\u001b[0m\n\u001b[0;32m   2061\u001b[0m                 \u001b[1;32mreturn\u001b[0m \u001b[0mself\u001b[0m\u001b[1;33m.\u001b[0m\u001b[0m_nan_idxs\u001b[0m\u001b[1;33m\u001b[0m\u001b[0m\n\u001b[1;32m-> 2062\u001b[1;33m         \u001b[1;32mreturn\u001b[0m \u001b[0msuper\u001b[0m\u001b[1;33m(\u001b[0m\u001b[0mFloat64Index\u001b[0m\u001b[1;33m,\u001b[0m \u001b[0mself\u001b[0m\u001b[1;33m)\u001b[0m\u001b[1;33m.\u001b[0m\u001b[0mget_loc\u001b[0m\u001b[1;33m(\u001b[0m\u001b[0mkey\u001b[0m\u001b[1;33m)\u001b[0m\u001b[1;33m\u001b[0m\u001b[0m\n\u001b[0m\u001b[0;32m   2063\u001b[0m \u001b[1;33m\u001b[0m\u001b[0m\n\u001b[0;32m   2064\u001b[0m     \u001b[1;33m@\u001b[0m\u001b[0mproperty\u001b[0m\u001b[1;33m\u001b[0m\u001b[0m\n",
        "\u001b[1;32mC:\\Python34\\lib\\site-packages\\pandas\\core\\index.py\u001b[0m in \u001b[0;36mget_loc\u001b[1;34m(self, key)\u001b[0m\n\u001b[0;32m   1154\u001b[0m         \u001b[0mloc\u001b[0m \u001b[1;33m:\u001b[0m \u001b[0mint\u001b[0m \u001b[1;32mif\u001b[0m \u001b[0munique\u001b[0m \u001b[0mindex\u001b[0m\u001b[1;33m,\u001b[0m \u001b[0mpossibly\u001b[0m \u001b[0mslice\u001b[0m \u001b[1;32mor\u001b[0m \u001b[0mmask\u001b[0m \u001b[1;32mif\u001b[0m \u001b[1;32mnot\u001b[0m\u001b[1;33m\u001b[0m\u001b[0m\n\u001b[0;32m   1155\u001b[0m         \"\"\"\n\u001b[1;32m-> 1156\u001b[1;33m         \u001b[1;32mreturn\u001b[0m \u001b[0mself\u001b[0m\u001b[1;33m.\u001b[0m\u001b[0m_engine\u001b[0m\u001b[1;33m.\u001b[0m\u001b[0mget_loc\u001b[0m\u001b[1;33m(\u001b[0m\u001b[0m_values_from_object\u001b[0m\u001b[1;33m(\u001b[0m\u001b[0mkey\u001b[0m\u001b[1;33m)\u001b[0m\u001b[1;33m)\u001b[0m\u001b[1;33m\u001b[0m\u001b[0m\n\u001b[0m\u001b[0;32m   1157\u001b[0m \u001b[1;33m\u001b[0m\u001b[0m\n\u001b[0;32m   1158\u001b[0m     \u001b[1;32mdef\u001b[0m \u001b[0mget_value\u001b[0m\u001b[1;33m(\u001b[0m\u001b[0mself\u001b[0m\u001b[1;33m,\u001b[0m \u001b[0mseries\u001b[0m\u001b[1;33m,\u001b[0m \u001b[0mkey\u001b[0m\u001b[1;33m)\u001b[0m\u001b[1;33m:\u001b[0m\u001b[1;33m\u001b[0m\u001b[0m\n",
        "\u001b[1;32mC:\\Python34\\lib\\site-packages\\pandas\\index.pyd\u001b[0m in \u001b[0;36mpandas.index.IndexEngine.get_loc (pandas\\index.c:3650)\u001b[1;34m()\u001b[0m\n",
        "\u001b[1;32mC:\\Python34\\lib\\site-packages\\pandas\\index.pyd\u001b[0m in \u001b[0;36mpandas.index.IndexEngine.get_loc (pandas\\index.c:3528)\u001b[1;34m()\u001b[0m\n",
        "\u001b[1;32mC:\\Python34\\lib\\site-packages\\pandas\\hashtable.pyd\u001b[0m in \u001b[0;36mpandas.hashtable.Float64HashTable.get_item (pandas\\hashtable.c:9642)\u001b[1;34m()\u001b[0m\n",
        "\u001b[1;32mC:\\Python34\\lib\\site-packages\\pandas\\hashtable.pyd\u001b[0m in \u001b[0;36mpandas.hashtable.Float64HashTable.get_item (pandas\\hashtable.c:9583)\u001b[1;34m()\u001b[0m\n",
        "\u001b[1;31mKeyError\u001b[0m: 0.0"
       ]
      },
      {
       "html": [
        "\n",
        "\n",
        "<style>\n",
        "\n",
        "</style>\n",
        "\n",
        "<div id=\"fig_el62361002048161340492457\"></div>\n",
        "<script>\n",
        "function mpld3_load_lib(url, callback){\n",
        "  var s = document.createElement('script');\n",
        "  s.src = url;\n",
        "  s.async = true;\n",
        "  s.onreadystatechange = s.onload = callback;\n",
        "  s.onerror = function(){console.warn(\"failed to load library \" + url);};\n",
        "  document.getElementsByTagName(\"head\")[0].appendChild(s);\n",
        "}\n",
        "\n",
        "if(typeof(mpld3) !== \"undefined\" && mpld3._mpld3IsLoaded){\n",
        "   // already loaded: just create the figure\n",
        "   !function(mpld3){\n",
        "       \n",
        "       mpld3.draw_figure(\"fig_el62361002048161340492457\", {\"width\": 960.0, \"data\": {}, \"height\": 320.0, \"id\": \"el6236100204816\", \"plugins\": [{\"type\": \"reset\"}, {\"type\": \"zoom\", \"button\": true, \"enabled\": false}, {\"type\": \"boxzoom\", \"button\": true, \"enabled\": false}], \"axes\": [{\"xdomain\": [0.0, 1.0], \"images\": [], \"lines\": [], \"xlim\": [0.0, 1.0], \"zoomable\": true, \"yscale\": \"linear\", \"texts\": [{\"color\": \"#000000\", \"fontsize\": 10.0, \"coordinates\": \"axes\", \"v_baseline\": \"auto\", \"rotation\": -90.0, \"id\": \"el6236100394224\", \"text\": \"Pressure in dbars\", \"position\": [-0.03557627688172044, 0.5], \"alpha\": 1, \"h_anchor\": \"middle\", \"zorder\": 3}, {\"color\": \"#000000\", \"fontsize\": 12.0, \"coordinates\": \"axes\", \"v_baseline\": \"auto\", \"rotation\": -0.0, \"id\": \"el6236100453968\", \"text\": \"Pressure Data\", \"position\": [0.5, 1.0224014336917562], \"alpha\": 1, \"h_anchor\": \"middle\", \"zorder\": 3}], \"bbox\": [0.125, 0.125, 0.775, 0.775], \"sharey\": [], \"sharex\": [], \"axesbg\": \"#F7F7F7\", \"markers\": [], \"id\": \"el6236100205648\", \"ydomain\": [0.0, 1.0], \"axesbgalpha\": null, \"axes\": [{\"fontsize\": 10.0, \"position\": \"bottom\", \"tickvalues\": null, \"grid\": {\"dasharray\": \"10,0\", \"color\": \"#808080\", \"alpha\": 1.0, \"gridOn\": true}, \"tickformat\": null, \"nticks\": 6, \"scale\": \"linear\"}, {\"fontsize\": 10.0, \"position\": \"left\", \"tickvalues\": null, \"grid\": {\"dasharray\": \"10,0\", \"color\": \"#808080\", \"alpha\": 1.0, \"gridOn\": true}, \"tickformat\": null, \"nticks\": 6, \"scale\": \"linear\"}], \"collections\": [], \"xscale\": \"linear\", \"ylim\": [0.0, 1.0], \"paths\": []}]});\n",
        "   }(mpld3);\n",
        "}else if(typeof define === \"function\" && define.amd){\n",
        "   // require.js is available: use it to load d3/mpld3\n",
        "   require.config({paths: {d3: \"https://mpld3.github.io/js/d3.v3.min\"}});\n",
        "   require([\"d3\"], function(d3){\n",
        "      window.d3 = d3;\n",
        "      mpld3_load_lib(\"https://mpld3.github.io/js/mpld3.v0.2.js\", function(){\n",
        "         \n",
        "         mpld3.draw_figure(\"fig_el62361002048161340492457\", {\"width\": 960.0, \"data\": {}, \"height\": 320.0, \"id\": \"el6236100204816\", \"plugins\": [{\"type\": \"reset\"}, {\"type\": \"zoom\", \"button\": true, \"enabled\": false}, {\"type\": \"boxzoom\", \"button\": true, \"enabled\": false}], \"axes\": [{\"xdomain\": [0.0, 1.0], \"images\": [], \"lines\": [], \"xlim\": [0.0, 1.0], \"zoomable\": true, \"yscale\": \"linear\", \"texts\": [{\"color\": \"#000000\", \"fontsize\": 10.0, \"coordinates\": \"axes\", \"v_baseline\": \"auto\", \"rotation\": -90.0, \"id\": \"el6236100394224\", \"text\": \"Pressure in dbars\", \"position\": [-0.03557627688172044, 0.5], \"alpha\": 1, \"h_anchor\": \"middle\", \"zorder\": 3}, {\"color\": \"#000000\", \"fontsize\": 12.0, \"coordinates\": \"axes\", \"v_baseline\": \"auto\", \"rotation\": -0.0, \"id\": \"el6236100453968\", \"text\": \"Pressure Data\", \"position\": [0.5, 1.0224014336917562], \"alpha\": 1, \"h_anchor\": \"middle\", \"zorder\": 3}], \"bbox\": [0.125, 0.125, 0.775, 0.775], \"sharey\": [], \"sharex\": [], \"axesbg\": \"#F7F7F7\", \"markers\": [], \"id\": \"el6236100205648\", \"ydomain\": [0.0, 1.0], \"axesbgalpha\": null, \"axes\": [{\"fontsize\": 10.0, \"position\": \"bottom\", \"tickvalues\": null, \"grid\": {\"dasharray\": \"10,0\", \"color\": \"#808080\", \"alpha\": 1.0, \"gridOn\": true}, \"tickformat\": null, \"nticks\": 6, \"scale\": \"linear\"}, {\"fontsize\": 10.0, \"position\": \"left\", \"tickvalues\": null, \"grid\": {\"dasharray\": \"10,0\", \"color\": \"#808080\", \"alpha\": 1.0, \"gridOn\": true}, \"tickformat\": null, \"nticks\": 6, \"scale\": \"linear\"}], \"collections\": [], \"xscale\": \"linear\", \"ylim\": [0.0, 1.0], \"paths\": []}]});\n",
        "      });\n",
        "    });\n",
        "}else{\n",
        "    // require.js not available: dynamically load d3 & mpld3\n",
        "    mpld3_load_lib(\"https://mpld3.github.io/js/d3.v3.min.js\", function(){\n",
        "         mpld3_load_lib(\"https://mpld3.github.io/js/mpld3.v0.2.js\", function(){\n",
        "                 \n",
        "                 mpld3.draw_figure(\"fig_el62361002048161340492457\", {\"width\": 960.0, \"data\": {}, \"height\": 320.0, \"id\": \"el6236100204816\", \"plugins\": [{\"type\": \"reset\"}, {\"type\": \"zoom\", \"button\": true, \"enabled\": false}, {\"type\": \"boxzoom\", \"button\": true, \"enabled\": false}], \"axes\": [{\"xdomain\": [0.0, 1.0], \"images\": [], \"lines\": [], \"xlim\": [0.0, 1.0], \"zoomable\": true, \"yscale\": \"linear\", \"texts\": [{\"color\": \"#000000\", \"fontsize\": 10.0, \"coordinates\": \"axes\", \"v_baseline\": \"auto\", \"rotation\": -90.0, \"id\": \"el6236100394224\", \"text\": \"Pressure in dbars\", \"position\": [-0.03557627688172044, 0.5], \"alpha\": 1, \"h_anchor\": \"middle\", \"zorder\": 3}, {\"color\": \"#000000\", \"fontsize\": 12.0, \"coordinates\": \"axes\", \"v_baseline\": \"auto\", \"rotation\": -0.0, \"id\": \"el6236100453968\", \"text\": \"Pressure Data\", \"position\": [0.5, 1.0224014336917562], \"alpha\": 1, \"h_anchor\": \"middle\", \"zorder\": 3}], \"bbox\": [0.125, 0.125, 0.775, 0.775], \"sharey\": [], \"sharex\": [], \"axesbg\": \"#F7F7F7\", \"markers\": [], \"id\": \"el6236100205648\", \"ydomain\": [0.0, 1.0], \"axesbgalpha\": null, \"axes\": [{\"fontsize\": 10.0, \"position\": \"bottom\", \"tickvalues\": null, \"grid\": {\"dasharray\": \"10,0\", \"color\": \"#808080\", \"alpha\": 1.0, \"gridOn\": true}, \"tickformat\": null, \"nticks\": 6, \"scale\": \"linear\"}, {\"fontsize\": 10.0, \"position\": \"left\", \"tickvalues\": null, \"grid\": {\"dasharray\": \"10,0\", \"color\": \"#808080\", \"alpha\": 1.0, \"gridOn\": true}, \"tickformat\": null, \"nticks\": 6, \"scale\": \"linear\"}], \"collections\": [], \"xscale\": \"linear\", \"ylim\": [0.0, 1.0], \"paths\": []}]});\n",
        "            })\n",
        "         });\n",
        "}\n",
        "</script>"
       ],
       "metadata": {},
       "output_type": "display_data",
       "png": "[encoded data removed]",
       "text": [
        "<matplotlib.figure.Figure at 0x5f90110>"
       ]
      }
     ],
     "prompt_number": 4
    },
    {
     "cell_type": "code",
     "collapsed": false,
     "input": [
      "\n",
      "dataFrame1 = pd.DataFrame({\"presssure\": pd.Series([1,2,3,4,5])})\n",
      "dataFrame1\n",
      "\n",
      "dataFrame2 = pd.DataFrame({\"air_pressure\": pd.Series([2,3,4])})\n",
      "dataFrame2\n",
      "\n",
      "df3 = pd.DataFrame.join(dataFrame1,dataFrame2)\n",
      "df3"
     ],
     "language": "python",
     "metadata": {},
     "outputs": [
      {
       "html": [
        "<div style=\"max-height:1000px;max-width:1500px;overflow:auto;\">\n",
        "<table border=\"1\" class=\"dataframe\">\n",
        "  <thead>\n",
        "    <tr style=\"text-align: right;\">\n",
        "      <th></th>\n",
        "      <th>presssure</th>\n",
        "      <th>air_pressure</th>\n",
        "    </tr>\n",
        "  </thead>\n",
        "  <tbody>\n",
        "    <tr>\n",
        "      <th>0</th>\n",
        "      <td> 1</td>\n",
        "      <td>  2</td>\n",
        "    </tr>\n",
        "    <tr>\n",
        "      <th>1</th>\n",
        "      <td> 2</td>\n",
        "      <td>  3</td>\n",
        "    </tr>\n",
        "    <tr>\n",
        "      <th>2</th>\n",
        "      <td> 3</td>\n",
        "      <td>  4</td>\n",
        "    </tr>\n",
        "    <tr>\n",
        "      <th>3</th>\n",
        "      <td> 4</td>\n",
        "      <td>NaN</td>\n",
        "    </tr>\n",
        "    <tr>\n",
        "      <th>4</th>\n",
        "      <td> 5</td>\n",
        "      <td>NaN</td>\n",
        "    </tr>\n",
        "  </tbody>\n",
        "</table>\n",
        "</div>"
       ],
       "metadata": {},
       "output_type": "pyout",
       "prompt_number": 11,
       "text": [
        "   presssure  air_pressure\n",
        "0          1             2\n",
        "1          2             3\n",
        "2          3             4\n",
        "3          4           NaN\n",
        "4          5           NaN"
       ]
      }
     ],
     "prompt_number": 11
    },
    {
     "cell_type": "code",
     "collapsed": false,
     "input": [
      "for x in df3.iteritems():\n",
      "    print(x)"
     ],
     "language": "python",
     "metadata": {},
     "outputs": [
      {
       "output_type": "stream",
       "stream": "stdout",
       "text": [
        "('presssure', 0    1\n",
        "1    2\n",
        "2    3\n",
        "3    4\n",
        "4    5\n",
        "Name: presssure, dtype: int64)\n",
        "('air_pressure', 0     2\n",
        "1     3\n",
        "2     4\n",
        "3   NaN\n",
        "4   NaN\n",
        "Name: air_pressure, dtype: float64)\n"
       ]
      }
     ],
     "prompt_number": 12
    },
    {
     "cell_type": "code",
     "collapsed": false,
     "input": [
      "a = depth.Depth()\n",
      "df4 = a.acquire_data()\n",
      "df4"
     ],
     "language": "python",
     "metadata": {},
     "outputs": [
      {
       "html": [
        "<div style=\"max-height:1000px;max-width:1500px;overflow:auto;\">\n",
        "<table border=\"1\" class=\"dataframe\">\n",
        "  <thead>\n",
        "    <tr style=\"text-align: right;\">\n",
        "      <th></th>\n",
        "      <th>Pressure</th>\n",
        "      <th>Air Pressure</th>\n",
        "    </tr>\n",
        "  </thead>\n",
        "  <tbody>\n",
        "    <tr>\n",
        "      <th>2014-05-13 10:45:00+00:00</th>\n",
        "      <td> 29.9473</td>\n",
        "      <td> 29.9473</td>\n",
        "    </tr>\n",
        "    <tr>\n",
        "      <th>2014-05-13 10:45:00.250000+00:00</th>\n",
        "      <td> 23.9473</td>\n",
        "      <td>     NaN</td>\n",
        "    </tr>\n",
        "    <tr>\n",
        "      <th>2014-05-13 10:45:00.500000+00:00</th>\n",
        "      <td> 29.9473</td>\n",
        "      <td>     NaN</td>\n",
        "    </tr>\n",
        "    <tr>\n",
        "      <th>2014-05-13 10:45:00.750000+00:00</th>\n",
        "      <td> 21.9473</td>\n",
        "      <td>     NaN</td>\n",
        "    </tr>\n",
        "    <tr>\n",
        "      <th>2014-05-13 10:45:01+00:00</th>\n",
        "      <td> 20.9473</td>\n",
        "      <td>     NaN</td>\n",
        "    </tr>\n",
        "    <tr>\n",
        "      <th>2014-05-13 10:45:01.250000+00:00</th>\n",
        "      <td> 12.9473</td>\n",
        "      <td>     NaN</td>\n",
        "    </tr>\n",
        "    <tr>\n",
        "      <th>2014-05-13 10:45:01.500000+00:00</th>\n",
        "      <td> 12.9473</td>\n",
        "      <td> 20.9473</td>\n",
        "    </tr>\n",
        "    <tr>\n",
        "      <th>2014-05-13 10:45:01.750000+00:00</th>\n",
        "      <td> 29.9473</td>\n",
        "      <td>     NaN</td>\n",
        "    </tr>\n",
        "    <tr>\n",
        "      <th>2014-05-13 10:45:02+00:00</th>\n",
        "      <td> 21.9473</td>\n",
        "      <td>     NaN</td>\n",
        "    </tr>\n",
        "    <tr>\n",
        "      <th>2014-05-13 10:45:02.250000+00:00</th>\n",
        "      <td> 20.9473</td>\n",
        "      <td>     NaN</td>\n",
        "    </tr>\n",
        "    <tr>\n",
        "      <th>2014-05-13 10:45:02.500000+00:00</th>\n",
        "      <td> 14.9473</td>\n",
        "      <td>     NaN</td>\n",
        "    </tr>\n",
        "    <tr>\n",
        "      <th>2014-05-13 10:45:02.750000+00:00</th>\n",
        "      <td> 29.9473</td>\n",
        "      <td>     NaN</td>\n",
        "    </tr>\n",
        "    <tr>\n",
        "      <th>2014-05-13 10:45:03+00:00</th>\n",
        "      <td> 25.9473</td>\n",
        "      <td> 21.9473</td>\n",
        "    </tr>\n",
        "  </tbody>\n",
        "</table>\n",
        "</div>"
       ],
       "metadata": {},
       "output_type": "pyout",
       "prompt_number": 3,
       "text": [
        "                                  Pressure  Air Pressure\n",
        "2014-05-13 10:45:00+00:00          29.9473       29.9473\n",
        "2014-05-13 10:45:00.250000+00:00   23.9473           NaN\n",
        "2014-05-13 10:45:00.500000+00:00   29.9473           NaN\n",
        "2014-05-13 10:45:00.750000+00:00   21.9473           NaN\n",
        "2014-05-13 10:45:01+00:00          20.9473           NaN\n",
        "2014-05-13 10:45:01.250000+00:00   12.9473           NaN\n",
        "2014-05-13 10:45:01.500000+00:00   12.9473       20.9473\n",
        "2014-05-13 10:45:01.750000+00:00   29.9473           NaN\n",
        "2014-05-13 10:45:02+00:00          21.9473           NaN\n",
        "2014-05-13 10:45:02.250000+00:00   20.9473           NaN\n",
        "2014-05-13 10:45:02.500000+00:00   14.9473           NaN\n",
        "2014-05-13 10:45:02.750000+00:00   29.9473           NaN\n",
        "2014-05-13 10:45:03+00:00          25.9473       21.9473"
       ]
      }
     ],
     "prompt_number": 3
    },
    {
     "cell_type": "code",
     "collapsed": false,
     "input": [
      "np.isnan(df4['Air Pressure'])"
     ],
     "language": "python",
     "metadata": {},
     "outputs": [
      {
       "metadata": {},
       "output_type": "pyout",
       "prompt_number": 4,
       "text": [
        "2014-05-13 10:45:00+00:00           False\n",
        "2014-05-13 10:45:00.250000+00:00     True\n",
        "2014-05-13 10:45:00.500000+00:00     True\n",
        "2014-05-13 10:45:00.750000+00:00     True\n",
        "2014-05-13 10:45:01+00:00            True\n",
        "2014-05-13 10:45:01.250000+00:00     True\n",
        "2014-05-13 10:45:01.500000+00:00    False\n",
        "2014-05-13 10:45:01.750000+00:00     True\n",
        "2014-05-13 10:45:02+00:00            True\n",
        "2014-05-13 10:45:02.250000+00:00     True\n",
        "2014-05-13 10:45:02.500000+00:00     True\n",
        "2014-05-13 10:45:02.750000+00:00     True\n",
        "2014-05-13 10:45:03+00:00           False\n",
        "Name: Air Pressure, dtype: bool"
       ]
      }
     ],
     "prompt_number": 4
    },
    {
     "cell_type": "code",
     "collapsed": false,
     "input": [],
     "language": "python",
     "metadata": {},
     "outputs": []
    }
   ],
   "metadata": {}
  }
 ]
}