{
 "metadata": {
  "name": "",
  "signature": "sha256:ea87fe502e9dde25a30ac70850038ebbfe220b8b9ee48754d67d4f79ebb9cfcc"
 },
 "nbformat": 3,
 "nbformat_minor": 0,
 "worksheets": [
  {
   "cells": [
    {
     "cell_type": "heading",
     "level": 1,
     "metadata": {},
     "source": [
      "Wave Lab Documentation"
     ]
    },
    {
     "cell_type": "markdown",
     "metadata": {},
     "source": [
      "<b>This notebook will help document the following 4 processes:</b>\n",
      "- Ingesting files from instruments and exporting them to netCDF files\n",
      "- Calculating sea pressure, hydrostatic pressure, and depth\n",
      "- Running a time domain analysis on the data \n",
      "- Running spectral analysis on the data"
     ]
    },
    {
     "cell_type": "markdown",
     "metadata": {},
     "source": [
      "<b>Each of these processes correspond to a apackage name in the wave lab project.  The package names and links to documentation are as follows:</b>\n",
      "\n",
      "* Instruments - <a href=\"Instruments.ipynb\">Instruments Documentation</a>\n",
      "* DepthCalculation - <a href=\"Depth Calculation.ipynb\">Depth Documentation</a>\n",
      "* TimeDomainAnalysis - <a href=\"Time Domain Analysis.ipynb\">Time Domain Documentation</a>\n",
      "* SpectralAnalysis - <a href=\"Spectral Analysis.ipynb\">Spectral Analysis Documentation</a>"
     ]
    },
    {
     "cell_type": "markdown",
     "metadata": {},
     "source": [
      "All scripts take advantage of the NetCDF_Utils package.  The following table gives a quick description of all these files in alphabetical order:\n",
      "\n",
      "<table>\n",
      "<tr><th>File</th><th>Description</th></tr>\n",
      "<tr><td>DateTimeConvert.py</td>\n",
      "<td>\n",
      "In order to convert datetimes to UTC milliseconds and vice versa the functions in this script\n",
      "</td></tr>\n",
      "<tr><td>edit_netcdf.py</td><td>Contains the classes for reading, editing, an, writing netCDF files using the python netCDF4 library.  All files are written in NETCDF4_CLASSIC in order to maintain as much compatibility as possible</td></tr>\n",
      "<tr><td>slurp.py</td><td>Downloads NOA data regarding pressure from a aselection station and returns a pandas series</td></tr>\n",
      "<tr><td>Testing.py</td><td>Tests dat for discrepancies and returns a 4bit binary number, the most signinficant bit as a place holder and the other three representing the tests and their pas or failure (1 or 0)</td></tr>\n",
      "</table>"
     ]
    },
    {
     "cell_type": "markdown",
     "metadata": {},
     "source": [
      "All formulas will be displayed as presented below:"
     ]
    },
    {
     "cell_type": "heading",
     "level": 3,
     "metadata": {},
     "source": [
      "E.g. Calculating Depth"
     ]
    },
    {
     "cell_type": "markdown",
     "metadata": {},
     "source": [
      "<table style=\"float: left\">\n",
      "<tr><th>Process</th><th>Formula</th>\n",
      "<tr><td>Depth by Subtracting Hydrostatic Pressure</td><td>$\\Delta p = \\rho g \\eta \\dfrac{cosh  \\hspace{1 mm} k(h+z)}{cosh \\hspace{1 mm} k}$</td></tr>\n",
      "<tr><td>Water Level</td><td>$\\eta = \\dfrac{\\Delta p}{\\rho g} \\dfrac{cos \\hspace{1mm} kh}{cosh \\hspace{1mm} k(h+z)}$</tr>\n",
      "<tr><td>Reduced Water Level Formula</td><td>$\\eta = \\dfrac{\\Delta p}{\\rho g}cosh \\hspace{1mm} kh$</td></tr>\n",
      "</table>"
     ]
    },
    {
     "cell_type": "markdown",
     "metadata": {},
     "source": []
    }
   ],
   "metadata": {}
  }
 ]
}