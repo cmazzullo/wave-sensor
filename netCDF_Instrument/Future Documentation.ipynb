{
 "metadata": {
  "name": "",
  "signature": "sha256:e5c780de811d19ccbfbab9ae6f4d6b84e3892255d1ff4af547f61b2efd923283"
 },
 "nbformat": 3,
 "nbformat_minor": 0,
 "worksheets": [
  {
   "cells": [
    {
     "cell_type": "markdown",
     "metadata": {},
     "source": [
      "%matplotlib inline\n",
      "import matplotlib.pyplot as plt\n",
      "import numpy as np\n",
      "\n"
     ]
    },
    {
     "cell_type": "code",
     "collapsed": false,
     "input": [
      "x = np.array([ .250, .50, .750, 1])\n",
      "y = np.array([10.1662925, 22.1172711 , 26.5923353, 19.0937649])\n",
      "A = np.vstack([x, np.ones(len(x))]).T\n",
      "A"
     ],
     "language": "python",
     "metadata": {},
     "outputs": [
      {
       "metadata": {},
       "output_type": "pyout",
       "prompt_number": 7,
       "text": [
        "array([[ 0.25,  1.  ],\n",
        "       [ 0.5 ,  1.  ],\n",
        "       [ 0.75,  1.  ],\n",
        "       [ 1.  ,  1.  ]])"
       ]
      }
     ],
     "prompt_number": 7
    },
    {
     "cell_type": "code",
     "collapsed": false,
     "input": [
      "m, c = np.linalg.lstsq(A, y)[0]\n",
      "print(m, c)"
     ],
     "language": "python",
     "metadata": {},
     "outputs": [
      {
       "output_type": "stream",
       "stream": "stdout",
       "text": [
        "12.50299256 11.6780456\n"
       ]
      }
     ],
     "prompt_number": 8
    },
    {
     "cell_type": "code",
     "collapsed": false,
     "input": [
      "np.linalg.lstsq(A, y)"
     ],
     "language": "python",
     "metadata": {},
     "outputs": [
      {
       "metadata": {},
       "output_type": "pyout",
       "prompt_number": 9,
       "text": [
        "(array([ 12.50299256,  11.6780456 ]),\n",
        " array([ 95.58271343]),\n",
        " 2,\n",
        " array([ 2.37779609,  0.47019759]))"
       ]
      }
     ],
     "prompt_number": 9
    },
    {
     "cell_type": "code",
     "collapsed": false,
     "input": [
      "plt.plot(x,y, 'o', label='Original data')\n",
      "plt.plot(x, m*x + c,'r', label='FittedLine' )\n",
      "#plt.legend()\n",
      "plt.grid(b=True, which='major', color='grey', linestyle=\"-\")\n",
      "plt.show()"
     ],
     "language": "python",
     "metadata": {},
     "outputs": [
      {
       "metadata": {},
       "output_type": "display_data",
       "png": "[encoded data removed]",
       "text": [
        "<matplotlib.figure.Figure at 0x65f8330>"
       ]
      }
     ],
     "prompt_number": 10
    },
    {
     "cell_type": "code",
     "collapsed": false,
     "input": [],
     "language": "python",
     "metadata": {},
     "outputs": []
    }
   ],
   "metadata": {}
  }
 ]
}