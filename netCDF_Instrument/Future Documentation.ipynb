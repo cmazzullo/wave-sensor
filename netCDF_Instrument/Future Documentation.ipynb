{
 "metadata": {
  "name": "",
  "signature": "sha256:ef983c20b510944461af97e57274df60f1d1664cd6cfc4eb6af8a62a24fee9e4"
 },
 "nbformat": 3,
 "nbformat_minor": 0,
 "worksheets": [
  {
   "cells": [
    {
     "cell_type": "heading",
     "level": 1,
     "metadata": {},
     "source": [
      "Wave Lab Documentation"
     ]
    },
    {
     "cell_type": "markdown",
     "metadata": {},
     "source": [
      "This notebook will help document the following processes:\n",
      "- Ingesting files from instruments and exporting them to netCDF files\n",
      "- Calculating sea pressure, hydrostatic pressure, and depth\n",
      "- Running a time domain analysis on the data \n",
      "- Running spectral analysus on the data"
     ]
    },
    {
     "cell_type": "heading",
     "level": 3,
     "metadata": {},
     "source": [
      "E.g. Calculating Depth"
     ]
    },
    {
     "cell_type": "markdown",
     "metadata": {},
     "source": [
      "<table style=\"float: left\">\n",
      "<tr><th>Process</th><th>Formula</th>\n",
      "<tr><td>Depth by Subtracting Hydrostatic Pressure</td><td>$\\Delta p = \\rho g \\eta \\dfrac{cosh  \\hspace{1 mm} k(h+z)}{cosh \\hspace{1 mm} k}$</td></tr>\n",
      "<tr><td>Water Level</td><td>$\\eta = \\dfrac{\\Delta p}{\\rho g} \\dfrac{cos \\hspace{1mm} kh}{cosh \\hspace{1mm} k(h+z)}$</tr>\n",
      "<tr><td>Reduced Water Level Formula</td><td>$\\eta = \\dfrac{\\Delta p}{\\rho g}cosh \\hspace{1mm} kh$</td></tr>\n",
      "</table>"
     ]
    },
    {
     "cell_type": "code",
     "collapsed": false,
     "input": [],
     "language": "python",
     "metadata": {},
     "outputs": []
    }
   ],
   "metadata": {}
  }
 ]
}