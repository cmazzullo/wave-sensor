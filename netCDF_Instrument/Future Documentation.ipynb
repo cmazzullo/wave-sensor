{
 "metadata": {
  "name": "",
  "signature": "sha256:612897fa5bd0d99d5a1b558764f2f851c6026652a4afe7708108123e243cc3f4"
 },
 "nbformat": 3,
 "nbformat_minor": 0,
 "worksheets": [
  {
   "cells": [
    {
     "cell_type": "heading",
     "level": 1,
     "metadata": {},
     "source": [
      "Wave Lab Documentation"
     ]
    },
    {
     "cell_type": "markdown",
     "metadata": {},
     "source": [
      "<b>This notebook will help document the following 4 processes:</b>\n",
      "- Ingesting files from instruments and exporting them to netCDF files\n",
      "- Calculating sea pressure, hydrostatic pressure, and depth\n",
      "- Running a time domain analysis on the data \n",
      "- Running spectral analysis on the data"
     ]
    },
    {
     "cell_type": "markdown",
     "metadata": {},
     "source": [
      "<b>Each of these processes correspond to a apackage name in the wave lab project.  The package names and links to documentation are as follows:</b>\n",
      "\n",
      "* Instruments - <a href=\"Instruments.ipynb\">Instruments Documentation</a>\n",
      "* DepthCalculation - <a href=\"Depth Calculation.ipynb\">Depth Documentation</a>\n",
      "* TimeDomainAnalysis - <a href=\"Time Domain Analysis.ipynb\">Time Domain Documentation</a>\n",
      "* SpectralAnalysis - <a href=\"Spectral Analysis.ipynb\">Spectral Analysis Documentation</a>"
     ]
    },
    {
     "cell_type": "markdown",
     "metadata": {},
     "source": [
      "<b>All scripts take advantage of the NetCDF_Utils package.  The following table gives a quick description of all these files in alphabetical order:</b>\n",
      "\n",
      "<table>\n",
      "<tr><th>File</th><th>Description</th></tr>\n",
      "<tr><td>DateTimeConvert.py</td>\n",
      "<td>\n",
      "In order to convert datetimes to UTC milliseconds and vice versa the functions in this script\n",
      "</td></tr>\n",
      "<tr><td>edit_netcdf.py</td><td>Contains the classes for reading, editing, an, writing netCDF files using the python netCDF4 library.  All files are written in NETCDF4_CLASSIC in order to maintain as much compatibility as possible</td></tr>\n",
      "<tr><td>slurp.py</td><td>Downloads NOA data regarding pressure from a aselection station and returns a pandas series</td></tr>\n",
      "<tr><td>Testing.py</td><td>Tests dat for discrepancies and returns a 4bit binary number, the most signinficant bit as a place holder and the other three representing the tests and their pas or failure (1 or 0)</td></tr>\n",
      "<tr><td>VarDatastore.py</td>\n",
      "<td>\n",
      "Abstract data class for assigning attributes and converting all data to a netcdf writer.  The Data Store is passed to the NetCDFWriter in edit_netcdf and then processed.\n",
      "</td>\n",
      "</table>"
     ]
    },
    {
     "cell_type": "heading",
     "level": 2,
     "metadata": {},
     "source": [
      "General Format"
     ]
    },
    {
     "cell_type": "markdown",
     "metadata": {},
     "source": [
      "All formulas will be displayed as presented below:"
     ]
    },
    {
     "cell_type": "heading",
     "level": 5,
     "metadata": {},
     "source": [
      "e.g. Calculating Depth"
     ]
    },
    {
     "cell_type": "markdown",
     "metadata": {},
     "source": [
      "<table style=\"float: left\">\n",
      "<tr><th>Process</th><th>Formula</th>\n",
      "<tr><td>Depth by Subtracting Hydrostatic Pressure</td><td>$\\Delta p = \\rho g \\eta \\dfrac{cosh  \\hspace{1 mm} k(h+z)}{cosh \\hspace{1 mm} k}$</td></tr>\n",
      "<tr><td>Water Level</td><td>$\\eta = \\dfrac{\\Delta p}{\\rho g} \\dfrac{cos \\hspace{1mm} kh}{cosh \\hspace{1mm} k(h+z)}$</tr>\n",
      "<tr><td>Reduced Water Level Formula</td><td>$\\eta = \\dfrac{\\Delta p}{\\rho g}cosh \\hspace{1mm} kh$</td></tr>\n",
      "</table>"
     ]
    },
    {
     "cell_type": "markdown",
     "metadata": {},
     "source": []
    }
   ],
   "metadata": {}
  }
 ]
}