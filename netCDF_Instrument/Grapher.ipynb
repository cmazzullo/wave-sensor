{
 "metadata": {
  "name": "",
  "signature": "sha256:6e47da5ca4dd291f2c95b689bac285f2df4697cbbd8335df978dbfbd1bcdad31"
 },
 "nbformat": 3,
 "nbformat_minor": 0,
 "worksheets": [
  {
   "cells": [
    {
     "cell_type": "code",
     "collapsed": false,
     "input": [
      "%matplotlib inline\n",
      "import matplotlib.pyplot as plt\n",
      "import numpy as np\n",
      "import mpld3\n",
      "import NetCDF_Utils.grapher as grapher\n",
      "import pandas as pd\n",
      "import DepthCalculation.depth\n",
      "\n",
      "mpld3.enable_notebook()"
     ],
     "language": "python",
     "metadata": {},
     "outputs": [],
     "prompt_number": 1
    },
    {
     "cell_type": "code",
     "collapsed": false,
     "input": [
      "graph = grapher.Grapher()\n",
      "graph.file_names = ['RBR_RSK_Test.txt.nc']\n",
      "graph.plot_multiple_series_graphs(True)"
     ],
     "language": "python",
     "metadata": {},
     "outputs": [
      {
       "output_type": "stream",
       "stream": "stdout",
       "text": [
        "21.0 21.0\n"
       ]
      },
      {
       "ename": "ValueError",
       "evalue": "If using all scalar values, you must must pass an index",
       "output_type": "pyerr",
       "traceback": [
        "\u001b[1;31m---------------------------------------------------------------------------\u001b[0m\n\u001b[1;31mValueError\u001b[0m                                Traceback (most recent call last)",
        "\u001b[1;32m<ipython-input-2-99bce44fbc1d>\u001b[0m in \u001b[0;36m<module>\u001b[1;34m()\u001b[0m\n\u001b[0;32m      1\u001b[0m \u001b[0mgraph\u001b[0m \u001b[1;33m=\u001b[0m \u001b[0mgrapher\u001b[0m\u001b[1;33m.\u001b[0m\u001b[0mGrapher\u001b[0m\u001b[1;33m(\u001b[0m\u001b[1;33m)\u001b[0m\u001b[1;33m\u001b[0m\u001b[0m\n\u001b[0;32m      2\u001b[0m \u001b[0mgraph\u001b[0m\u001b[1;33m.\u001b[0m\u001b[0mfile_names\u001b[0m \u001b[1;33m=\u001b[0m \u001b[1;33m[\u001b[0m\u001b[1;34m'RBR_RSK_Test.txt.nc'\u001b[0m\u001b[1;33m]\u001b[0m\u001b[1;33m\u001b[0m\u001b[0m\n\u001b[1;32m----> 3\u001b[1;33m \u001b[0mgraph\u001b[0m\u001b[1;33m.\u001b[0m\u001b[0mplot_multiple_series_graphs\u001b[0m\u001b[1;33m(\u001b[0m\u001b[1;32mTrue\u001b[0m\u001b[1;33m)\u001b[0m\u001b[1;33m\u001b[0m\u001b[0m\n\u001b[0m",
        "\u001b[1;32mC:\\Users\\Gregory\\Documents\\GitHub\\wave-sensor\\netCDF_Instrument\\NetCDF_Utils\\grapher.py\u001b[0m in \u001b[0;36mplot_multiple_series_graphs\u001b[1;34m(self, pressure_bool, zero_mean, ylimits)\u001b[0m\n\u001b[0;32m    109\u001b[0m \u001b[1;33m\u001b[0m\u001b[0m\n\u001b[0;32m    110\u001b[0m         \u001b[1;32mif\u001b[0m \u001b[0mpressure_bool\u001b[0m \u001b[1;33m==\u001b[0m \u001b[1;32mTrue\u001b[0m\u001b[1;33m:\u001b[0m\u001b[1;33m\u001b[0m\u001b[0m\n\u001b[1;32m--> 111\u001b[1;33m             \u001b[0mself\u001b[0m\u001b[1;33m.\u001b[0m\u001b[0mget_pressures_only_dataframe\u001b[0m\u001b[1;33m(\u001b[0m\u001b[1;33m)\u001b[0m\u001b[1;33m\u001b[0m\u001b[0m\n\u001b[0m\u001b[0;32m    112\u001b[0m             \u001b[0max\u001b[0m\u001b[1;33m.\u001b[0m\u001b[0mset_ylabel\u001b[0m\u001b[1;33m(\u001b[0m\u001b[1;34m'Pressure in dbars'\u001b[0m\u001b[1;33m)\u001b[0m\u001b[1;33m\u001b[0m\u001b[0m\n\u001b[0;32m    113\u001b[0m             \u001b[1;32mif\u001b[0m \u001b[0mzero_mean\u001b[0m \u001b[1;33m==\u001b[0m \u001b[1;32mTrue\u001b[0m\u001b[1;33m:\u001b[0m\u001b[1;33m\u001b[0m\u001b[0m\n",
        "\u001b[1;32mC:\\Users\\Gregory\\Documents\\GitHub\\wave-sensor\\netCDF_Instrument\\NetCDF_Utils\\edit_netcdf.py\u001b[0m in \u001b[0;36mget_pressures_only_dataframe\u001b[1;34m(self)\u001b[0m\n\u001b[0;32m     84\u001b[0m         \u001b[1;32mfor\u001b[0m \u001b[0mx\u001b[0m \u001b[1;32min\u001b[0m \u001b[0mself\u001b[0m\u001b[1;33m.\u001b[0m\u001b[0mfile_names\u001b[0m\u001b[1;33m:\u001b[0m\u001b[1;33m\u001b[0m\u001b[0m\n\u001b[0;32m     85\u001b[0m             \u001b[0mself\u001b[0m\u001b[1;33m.\u001b[0m\u001b[0mdataframe_vals\u001b[0m\u001b[1;33m[\u001b[0m\u001b[0mx\u001b[0m\u001b[1;33m]\u001b[0m \u001b[1;33m=\u001b[0m \u001b[0mself\u001b[0m\u001b[1;33m.\u001b[0m\u001b[0mread_file\u001b[0m\u001b[1;33m(\u001b[0m\u001b[0mx\u001b[0m\u001b[1;33m,\u001b[0m \u001b[1;32mTrue\u001b[0m\u001b[1;33m,\u001b[0m \u001b[1;32mTrue\u001b[0m\u001b[1;33m)\u001b[0m\u001b[1;33m\u001b[0m\u001b[0m\n\u001b[1;32m---> 86\u001b[1;33m         \u001b[0mself\u001b[0m\u001b[1;33m.\u001b[0m\u001b[0mdataframe\u001b[0m \u001b[1;33m=\u001b[0m \u001b[0mpd\u001b[0m\u001b[1;33m.\u001b[0m\u001b[0mDataFrame\u001b[0m\u001b[1;33m(\u001b[0m\u001b[0mself\u001b[0m\u001b[1;33m.\u001b[0m\u001b[0mdataframe_vals\u001b[0m\u001b[1;33m)\u001b[0m\u001b[1;33m\u001b[0m\u001b[0m\n\u001b[0m\u001b[0;32m     87\u001b[0m \u001b[1;33m\u001b[0m\u001b[0m\n\u001b[0;32m     88\u001b[0m     \u001b[1;32mdef\u001b[0m \u001b[0mget_temperatures_only_dataframe\u001b[0m\u001b[1;33m(\u001b[0m\u001b[0mself\u001b[0m\u001b[1;33m)\u001b[0m\u001b[1;33m:\u001b[0m\u001b[1;33m\u001b[0m\u001b[0m\n",
        "\u001b[1;32mC:\\Python34\\lib\\site-packages\\pandas\\core\\frame.py\u001b[0m in \u001b[0;36m__init__\u001b[1;34m(self, data, index, columns, dtype, copy)\u001b[0m\n\u001b[0;32m    201\u001b[0m                                  dtype=dtype, copy=copy)\n\u001b[0;32m    202\u001b[0m         \u001b[1;32melif\u001b[0m \u001b[0misinstance\u001b[0m\u001b[1;33m(\u001b[0m\u001b[0mdata\u001b[0m\u001b[1;33m,\u001b[0m \u001b[0mdict\u001b[0m\u001b[1;33m)\u001b[0m\u001b[1;33m:\u001b[0m\u001b[1;33m\u001b[0m\u001b[0m\n\u001b[1;32m--> 203\u001b[1;33m             \u001b[0mmgr\u001b[0m \u001b[1;33m=\u001b[0m \u001b[0mself\u001b[0m\u001b[1;33m.\u001b[0m\u001b[0m_init_dict\u001b[0m\u001b[1;33m(\u001b[0m\u001b[0mdata\u001b[0m\u001b[1;33m,\u001b[0m \u001b[0mindex\u001b[0m\u001b[1;33m,\u001b[0m \u001b[0mcolumns\u001b[0m\u001b[1;33m,\u001b[0m \u001b[0mdtype\u001b[0m\u001b[1;33m=\u001b[0m\u001b[0mdtype\u001b[0m\u001b[1;33m)\u001b[0m\u001b[1;33m\u001b[0m\u001b[0m\n\u001b[0m\u001b[0;32m    204\u001b[0m         \u001b[1;32melif\u001b[0m \u001b[0misinstance\u001b[0m\u001b[1;33m(\u001b[0m\u001b[0mdata\u001b[0m\u001b[1;33m,\u001b[0m \u001b[0mma\u001b[0m\u001b[1;33m.\u001b[0m\u001b[0mMaskedArray\u001b[0m\u001b[1;33m)\u001b[0m\u001b[1;33m:\u001b[0m\u001b[1;33m\u001b[0m\u001b[0m\n\u001b[0;32m    205\u001b[0m             \u001b[1;32mimport\u001b[0m \u001b[0mnumpy\u001b[0m\u001b[1;33m.\u001b[0m\u001b[0mma\u001b[0m\u001b[1;33m.\u001b[0m\u001b[0mmrecords\u001b[0m \u001b[1;32mas\u001b[0m \u001b[0mmrecords\u001b[0m\u001b[1;33m\u001b[0m\u001b[0m\n",
        "\u001b[1;32mC:\\Python34\\lib\\site-packages\\pandas\\core\\frame.py\u001b[0m in \u001b[0;36m_init_dict\u001b[1;34m(self, data, index, columns, dtype)\u001b[0m\n\u001b[0;32m    325\u001b[0m \u001b[1;33m\u001b[0m\u001b[0m\n\u001b[0;32m    326\u001b[0m         return _arrays_to_mgr(arrays, data_names, index, columns,\n\u001b[1;32m--> 327\u001b[1;33m                               dtype=dtype)\n\u001b[0m\u001b[0;32m    328\u001b[0m \u001b[1;33m\u001b[0m\u001b[0m\n\u001b[0;32m    329\u001b[0m     def _init_ndarray(self, values, index, columns, dtype=None,\n",
        "\u001b[1;32mC:\\Python34\\lib\\site-packages\\pandas\\core\\frame.py\u001b[0m in \u001b[0;36m_arrays_to_mgr\u001b[1;34m(arrays, arr_names, index, columns, dtype)\u001b[0m\n\u001b[0;32m   4513\u001b[0m     \u001b[1;31m# figure out the index, if necessary\u001b[0m\u001b[1;33m\u001b[0m\u001b[1;33m\u001b[0m\u001b[0m\n\u001b[0;32m   4514\u001b[0m     \u001b[1;32mif\u001b[0m \u001b[0mindex\u001b[0m \u001b[1;32mis\u001b[0m \u001b[1;32mNone\u001b[0m\u001b[1;33m:\u001b[0m\u001b[1;33m\u001b[0m\u001b[0m\n\u001b[1;32m-> 4515\u001b[1;33m         \u001b[0mindex\u001b[0m \u001b[1;33m=\u001b[0m \u001b[0mextract_index\u001b[0m\u001b[1;33m(\u001b[0m\u001b[0marrays\u001b[0m\u001b[1;33m)\u001b[0m\u001b[1;33m\u001b[0m\u001b[0m\n\u001b[0m\u001b[0;32m   4516\u001b[0m     \u001b[1;32melse\u001b[0m\u001b[1;33m:\u001b[0m\u001b[1;33m\u001b[0m\u001b[0m\n\u001b[0;32m   4517\u001b[0m         \u001b[0mindex\u001b[0m \u001b[1;33m=\u001b[0m \u001b[0m_ensure_index\u001b[0m\u001b[1;33m(\u001b[0m\u001b[0mindex\u001b[0m\u001b[1;33m)\u001b[0m\u001b[1;33m\u001b[0m\u001b[0m\n",
        "\u001b[1;32mC:\\Python34\\lib\\site-packages\\pandas\\core\\frame.py\u001b[0m in \u001b[0;36mextract_index\u001b[1;34m(data)\u001b[0m\n\u001b[0;32m   4552\u001b[0m \u001b[1;33m\u001b[0m\u001b[0m\n\u001b[0;32m   4553\u001b[0m         \u001b[1;32mif\u001b[0m \u001b[1;32mnot\u001b[0m \u001b[0mindexes\u001b[0m \u001b[1;32mand\u001b[0m \u001b[1;32mnot\u001b[0m \u001b[0mraw_lengths\u001b[0m\u001b[1;33m:\u001b[0m\u001b[1;33m\u001b[0m\u001b[0m\n\u001b[1;32m-> 4554\u001b[1;33m             raise ValueError('If using all scalar values, you must must pass'\n\u001b[0m\u001b[0;32m   4555\u001b[0m                              ' an index')\n\u001b[0;32m   4556\u001b[0m \u001b[1;33m\u001b[0m\u001b[0m\n",
        "\u001b[1;31mValueError\u001b[0m: If using all scalar values, you must must pass an index"
       ]
      },
      {
       "html": [
        "\n",
        "\n",
        "<style>\n",
        "\n",
        "</style>\n",
        "\n",
        "<div id=\"fig_el6680969473764520671067\"></div>\n",
        "<script>\n",
        "function mpld3_load_lib(url, callback){\n",
        "  var s = document.createElement('script');\n",
        "  s.src = url;\n",
        "  s.async = true;\n",
        "  s.onreadystatechange = s.onload = callback;\n",
        "  s.onerror = function(){console.warn(\"failed to load library \" + url);};\n",
        "  document.getElementsByTagName(\"head\")[0].appendChild(s);\n",
        "}\n",
        "\n",
        "if(typeof(mpld3) !== \"undefined\" && mpld3._mpld3IsLoaded){\n",
        "   // already loaded: just create the figure\n",
        "   !function(mpld3){\n",
        "       \n",
        "       mpld3.draw_figure(\"fig_el6680969473764520671067\", {\"width\": 960.0, \"axes\": [{\"xlim\": [0.0, 1.0], \"axes\": [{\"tickvalues\": null, \"grid\": {\"gridOn\": false}, \"position\": \"bottom\", \"tickformat\": null, \"fontsize\": 10.0, \"scale\": \"linear\", \"nticks\": 6}, {\"tickvalues\": null, \"grid\": {\"gridOn\": false}, \"position\": \"left\", \"tickformat\": null, \"fontsize\": 10.0, \"scale\": \"linear\", \"nticks\": 6}], \"axesbg\": \"#F7F7F7\", \"axesbgalpha\": null, \"lines\": [], \"paths\": [], \"ylim\": [0.0, 1.0], \"collections\": [], \"xdomain\": [0.0, 1.0], \"xscale\": \"linear\", \"bbox\": [0.125, 0.125, 0.775, 0.775], \"images\": [], \"zoomable\": true, \"id\": \"el668096997744\", \"yscale\": \"linear\", \"texts\": [], \"sharey\": [], \"ydomain\": [0.0, 1.0], \"markers\": [], \"sharex\": []}], \"id\": \"el668096947376\", \"data\": {}, \"plugins\": [{\"type\": \"reset\"}, {\"button\": true, \"type\": \"zoom\", \"enabled\": false}, {\"button\": true, \"type\": \"boxzoom\", \"enabled\": false}], \"height\": 320.0});\n",
        "   }(mpld3);\n",
        "}else if(typeof define === \"function\" && define.amd){\n",
        "   // require.js is available: use it to load d3/mpld3\n",
        "   require.config({paths: {d3: \"https://mpld3.github.io/js/d3.v3.min\"}});\n",
        "   require([\"d3\"], function(d3){\n",
        "      window.d3 = d3;\n",
        "      mpld3_load_lib(\"https://mpld3.github.io/js/mpld3.v0.2.js\", function(){\n",
        "         \n",
        "         mpld3.draw_figure(\"fig_el6680969473764520671067\", {\"width\": 960.0, \"axes\": [{\"xlim\": [0.0, 1.0], \"axes\": [{\"tickvalues\": null, \"grid\": {\"gridOn\": false}, \"position\": \"bottom\", \"tickformat\": null, \"fontsize\": 10.0, \"scale\": \"linear\", \"nticks\": 6}, {\"tickvalues\": null, \"grid\": {\"gridOn\": false}, \"position\": \"left\", \"tickformat\": null, \"fontsize\": 10.0, \"scale\": \"linear\", \"nticks\": 6}], \"axesbg\": \"#F7F7F7\", \"axesbgalpha\": null, \"lines\": [], \"paths\": [], \"ylim\": [0.0, 1.0], \"collections\": [], \"xdomain\": [0.0, 1.0], \"xscale\": \"linear\", \"bbox\": [0.125, 0.125, 0.775, 0.775], \"images\": [], \"zoomable\": true, \"id\": \"el668096997744\", \"yscale\": \"linear\", \"texts\": [], \"sharey\": [], \"ydomain\": [0.0, 1.0], \"markers\": [], \"sharex\": []}], \"id\": \"el668096947376\", \"data\": {}, \"plugins\": [{\"type\": \"reset\"}, {\"button\": true, \"type\": \"zoom\", \"enabled\": false}, {\"button\": true, \"type\": \"boxzoom\", \"enabled\": false}], \"height\": 320.0});\n",
        "      });\n",
        "    });\n",
        "}else{\n",
        "    // require.js not available: dynamically load d3 & mpld3\n",
        "    mpld3_load_lib(\"https://mpld3.github.io/js/d3.v3.min.js\", function(){\n",
        "         mpld3_load_lib(\"https://mpld3.github.io/js/mpld3.v0.2.js\", function(){\n",
        "                 \n",
        "                 mpld3.draw_figure(\"fig_el6680969473764520671067\", {\"width\": 960.0, \"axes\": [{\"xlim\": [0.0, 1.0], \"axes\": [{\"tickvalues\": null, \"grid\": {\"gridOn\": false}, \"position\": \"bottom\", \"tickformat\": null, \"fontsize\": 10.0, \"scale\": \"linear\", \"nticks\": 6}, {\"tickvalues\": null, \"grid\": {\"gridOn\": false}, \"position\": \"left\", \"tickformat\": null, \"fontsize\": 10.0, \"scale\": \"linear\", \"nticks\": 6}], \"axesbg\": \"#F7F7F7\", \"axesbgalpha\": null, \"lines\": [], \"paths\": [], \"ylim\": [0.0, 1.0], \"collections\": [], \"xdomain\": [0.0, 1.0], \"xscale\": \"linear\", \"bbox\": [0.125, 0.125, 0.775, 0.775], \"images\": [], \"zoomable\": true, \"id\": \"el668096997744\", \"yscale\": \"linear\", \"texts\": [], \"sharey\": [], \"ydomain\": [0.0, 1.0], \"markers\": [], \"sharex\": []}], \"id\": \"el668096947376\", \"data\": {}, \"plugins\": [{\"type\": \"reset\"}, {\"button\": true, \"type\": \"zoom\", \"enabled\": false}, {\"button\": true, \"type\": \"boxzoom\", \"enabled\": false}], \"height\": 320.0});\n",
        "            })\n",
        "         });\n",
        "}\n",
        "</script>"
       ],
       "metadata": {},
       "output_type": "display_data",
       "png": "[encoded data removed]",
       "text": [
        "<matplotlib.figure.Figure at 0x5c74cb0>"
       ]
      }
     ],
     "prompt_number": 2
    },
    {
     "cell_type": "code",
     "collapsed": false,
     "input": [
      "\n",
      "dataFrame1 = pd.DataFrame({\"presssure\": pd.Series([1,2,3,4,5])})\n",
      "dataFrame1\n",
      "\n",
      "dataFrame2 = pd.DataFrame({\"air_pressure\": pd.Series([2,3,4])})\n",
      "dataFrame2\n",
      "\n",
      "df3 = pd.DataFrame.join(dataFrame1,dataFrame2)\n",
      "df3"
     ],
     "language": "python",
     "metadata": {},
     "outputs": [
      {
       "html": [
        "<div style=\"max-height:1000px;max-width:1500px;overflow:auto;\">\n",
        "<table border=\"1\" class=\"dataframe\">\n",
        "  <thead>\n",
        "    <tr style=\"text-align: right;\">\n",
        "      <th></th>\n",
        "      <th>presssure</th>\n",
        "      <th>air_pressure</th>\n",
        "    </tr>\n",
        "  </thead>\n",
        "  <tbody>\n",
        "    <tr>\n",
        "      <th>0</th>\n",
        "      <td> 1</td>\n",
        "      <td>  2</td>\n",
        "    </tr>\n",
        "    <tr>\n",
        "      <th>1</th>\n",
        "      <td> 2</td>\n",
        "      <td>  3</td>\n",
        "    </tr>\n",
        "    <tr>\n",
        "      <th>2</th>\n",
        "      <td> 3</td>\n",
        "      <td>  4</td>\n",
        "    </tr>\n",
        "    <tr>\n",
        "      <th>3</th>\n",
        "      <td> 4</td>\n",
        "      <td>NaN</td>\n",
        "    </tr>\n",
        "    <tr>\n",
        "      <th>4</th>\n",
        "      <td> 5</td>\n",
        "      <td>NaN</td>\n",
        "    </tr>\n",
        "  </tbody>\n",
        "</table>\n",
        "</div>"
       ],
       "metadata": {},
       "output_type": "pyout",
       "prompt_number": 11,
       "text": [
        "   presssure  air_pressure\n",
        "0          1             2\n",
        "1          2             3\n",
        "2          3             4\n",
        "3          4           NaN\n",
        "4          5           NaN"
       ]
      }
     ],
     "prompt_number": 11
    },
    {
     "cell_type": "code",
     "collapsed": false,
     "input": [
      "for x in df3.iteritems():\n",
      "    print(x)"
     ],
     "language": "python",
     "metadata": {},
     "outputs": [
      {
       "output_type": "stream",
       "stream": "stdout",
       "text": [
        "('presssure', 0    1\n",
        "1    2\n",
        "2    3\n",
        "3    4\n",
        "4    5\n",
        "Name: presssure, dtype: int64)\n",
        "('air_pressure', 0     2\n",
        "1     3\n",
        "2     4\n",
        "3   NaN\n",
        "4   NaN\n",
        "Name: air_pressure, dtype: float64)\n"
       ]
      }
     ],
     "prompt_number": 12
    },
    {
     "cell_type": "code",
     "collapsed": false,
     "input": [
      "a = depth.Depth()\n",
      "df4 = a.acquire_data()\n",
      "df4"
     ],
     "language": "python",
     "metadata": {},
     "outputs": [
      {
       "html": [
        "<div style=\"max-height:1000px;max-width:1500px;overflow:auto;\">\n",
        "<table border=\"1\" class=\"dataframe\">\n",
        "  <thead>\n",
        "    <tr style=\"text-align: right;\">\n",
        "      <th></th>\n",
        "      <th>Pressure</th>\n",
        "      <th>Air Pressure</th>\n",
        "    </tr>\n",
        "  </thead>\n",
        "  <tbody>\n",
        "    <tr>\n",
        "      <th>2014-05-13 10:45:00+00:00</th>\n",
        "      <td> 29.9473</td>\n",
        "      <td> 29.9473</td>\n",
        "    </tr>\n",
        "    <tr>\n",
        "      <th>2014-05-13 10:45:00.250000+00:00</th>\n",
        "      <td> 23.9473</td>\n",
        "      <td>     NaN</td>\n",
        "    </tr>\n",
        "    <tr>\n",
        "      <th>2014-05-13 10:45:00.500000+00:00</th>\n",
        "      <td> 29.9473</td>\n",
        "      <td>     NaN</td>\n",
        "    </tr>\n",
        "    <tr>\n",
        "      <th>2014-05-13 10:45:00.750000+00:00</th>\n",
        "      <td> 21.9473</td>\n",
        "      <td>     NaN</td>\n",
        "    </tr>\n",
        "    <tr>\n",
        "      <th>2014-05-13 10:45:01+00:00</th>\n",
        "      <td> 20.9473</td>\n",
        "      <td>     NaN</td>\n",
        "    </tr>\n",
        "    <tr>\n",
        "      <th>2014-05-13 10:45:01.250000+00:00</th>\n",
        "      <td> 12.9473</td>\n",
        "      <td>     NaN</td>\n",
        "    </tr>\n",
        "    <tr>\n",
        "      <th>2014-05-13 10:45:01.500000+00:00</th>\n",
        "      <td> 12.9473</td>\n",
        "      <td> 20.9473</td>\n",
        "    </tr>\n",
        "    <tr>\n",
        "      <th>2014-05-13 10:45:01.750000+00:00</th>\n",
        "      <td> 29.9473</td>\n",
        "      <td>     NaN</td>\n",
        "    </tr>\n",
        "    <tr>\n",
        "      <th>2014-05-13 10:45:02+00:00</th>\n",
        "      <td> 21.9473</td>\n",
        "      <td>     NaN</td>\n",
        "    </tr>\n",
        "    <tr>\n",
        "      <th>2014-05-13 10:45:02.250000+00:00</th>\n",
        "      <td> 20.9473</td>\n",
        "      <td>     NaN</td>\n",
        "    </tr>\n",
        "    <tr>\n",
        "      <th>2014-05-13 10:45:02.500000+00:00</th>\n",
        "      <td> 14.9473</td>\n",
        "      <td>     NaN</td>\n",
        "    </tr>\n",
        "    <tr>\n",
        "      <th>2014-05-13 10:45:02.750000+00:00</th>\n",
        "      <td> 29.9473</td>\n",
        "      <td>     NaN</td>\n",
        "    </tr>\n",
        "    <tr>\n",
        "      <th>2014-05-13 10:45:03+00:00</th>\n",
        "      <td> 25.9473</td>\n",
        "      <td> 21.9473</td>\n",
        "    </tr>\n",
        "  </tbody>\n",
        "</table>\n",
        "</div>"
       ],
       "metadata": {},
       "output_type": "pyout",
       "prompt_number": 3,
       "text": [
        "                                  Pressure  Air Pressure\n",
        "2014-05-13 10:45:00+00:00          29.9473       29.9473\n",
        "2014-05-13 10:45:00.250000+00:00   23.9473           NaN\n",
        "2014-05-13 10:45:00.500000+00:00   29.9473           NaN\n",
        "2014-05-13 10:45:00.750000+00:00   21.9473           NaN\n",
        "2014-05-13 10:45:01+00:00          20.9473           NaN\n",
        "2014-05-13 10:45:01.250000+00:00   12.9473           NaN\n",
        "2014-05-13 10:45:01.500000+00:00   12.9473       20.9473\n",
        "2014-05-13 10:45:01.750000+00:00   29.9473           NaN\n",
        "2014-05-13 10:45:02+00:00          21.9473           NaN\n",
        "2014-05-13 10:45:02.250000+00:00   20.9473           NaN\n",
        "2014-05-13 10:45:02.500000+00:00   14.9473           NaN\n",
        "2014-05-13 10:45:02.750000+00:00   29.9473           NaN\n",
        "2014-05-13 10:45:03+00:00          25.9473       21.9473"
       ]
      }
     ],
     "prompt_number": 3
    },
    {
     "cell_type": "code",
     "collapsed": false,
     "input": [
      "np.isnan(df4['Air Pressure'])"
     ],
     "language": "python",
     "metadata": {},
     "outputs": [
      {
       "metadata": {},
       "output_type": "pyout",
       "prompt_number": 4,
       "text": [
        "2014-05-13 10:45:00+00:00           False\n",
        "2014-05-13 10:45:00.250000+00:00     True\n",
        "2014-05-13 10:45:00.500000+00:00     True\n",
        "2014-05-13 10:45:00.750000+00:00     True\n",
        "2014-05-13 10:45:01+00:00            True\n",
        "2014-05-13 10:45:01.250000+00:00     True\n",
        "2014-05-13 10:45:01.500000+00:00    False\n",
        "2014-05-13 10:45:01.750000+00:00     True\n",
        "2014-05-13 10:45:02+00:00            True\n",
        "2014-05-13 10:45:02.250000+00:00     True\n",
        "2014-05-13 10:45:02.500000+00:00     True\n",
        "2014-05-13 10:45:02.750000+00:00     True\n",
        "2014-05-13 10:45:03+00:00           False\n",
        "Name: Air Pressure, dtype: bool"
       ]
      }
     ],
     "prompt_number": 4
    },
    {
     "cell_type": "code",
     "collapsed": false,
     "input": [],
     "language": "python",
     "metadata": {},
     "outputs": []
    }
   ],
   "metadata": {}
  }
 ]
}