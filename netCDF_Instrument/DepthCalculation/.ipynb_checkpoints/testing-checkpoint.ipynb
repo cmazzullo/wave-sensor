{
 "metadata": {
  "name": "",
  "signature": "sha256:8247ceb10721dea36ab996e919b20e6d622469bc5acd4db43ff12d78e66ceb5c"
 },
 "nbformat": 3,
 "nbformat_minor": 0,
 "worksheets": [
  {
   "cells": [
    {
     "cell_type": "heading",
     "level": 1,
     "metadata": {},
     "source": [
      "Testing the pressure to water level conversion"
     ]
    },
    {
     "cell_type": "markdown",
     "metadata": {},
     "source": [
      "First, let's make some waves with known frequencies, amplitudes and phases, and add them together. \n",
      "For a start, I'll use a 0.2 Hertz wave with an amplitude of 1 meter, and a .1 Hertz wave with an amplitude of 0.5 meters and a phase shift of pi/3.\n",
      "\n",
      "The general equation that describes a wave is:\n",
      "\n",
      "$$ \\eta = A \\sin(2 \\pi f t + \\phi) $$\n",
      "\n",
      "Where $\\eta$ is the height of the wave along the vertical axis.\n",
      "\n",
      "So, this is the equation for our particular wave:\n",
      "\n",
      "$$ \\eta = \\sin(0.2\\cdot2 \\pi t) + 0.5 \\sin(0.1\\cdot2 \\pi t + \\frac{\\pi}{2}) $$\n",
      "\n",
      "Let's see what that looks like."
     ]
    },
    {
     "cell_type": "code",
     "collapsed": false,
     "input": [
      "from numpy import *\n",
      "from matplotlib.pyplot import *\n",
      "%matplotlib inline\n",
      "\n",
      "t = arange(0, 60, .001)\n",
      "y = sin(2*pi*t*.2) + .5*sin(2*pi*t*.1 + pi/2)\n",
      "xlabel('time (s)')\n",
      "ylabel('wave height (m)')\n",
      "plot(t, y)"
     ],
     "language": "python",
     "metadata": {},
     "outputs": [
      {
       "metadata": {},
       "output_type": "pyout",
       "prompt_number": 57,
       "text": [
        "[<matplotlib.lines.Line2D at 0x7fffc9c16cc0>]"
       ]
      },
      {
       "metadata": {},
       "output_type": "display_data",
       "png": "[encoded data removed]",
       "text": [
        "<matplotlib.figure.Figure at 0x7fffc9c9b358>"
       ]
      }
     ],
     "prompt_number": 57
    },
    {
     "cell_type": "markdown",
     "metadata": {},
     "source": [
      "Great! Now, our script is going to be looking at pressure data, but this data just shows wave height. We can approximate the pressure under waves of certain heights by using linear wave theory:\n",
      "\n",
      "$$ p = \\eta \\rho g \\frac{\\cosh k (z + H)}{\\cosh k H} $$\n",
      "\n",
      "Where $\\rho$ is the density of water, $g$ is gravitational acceleration, $k$ is the wave number and $H$ is the average depth of the water. The total pressure is just the sum of the pressure due to each component wave. \n",
      "\n",
      "But we defined our waves using frequency - how do we find the wave number $k$? Wave number is $\\frac{2 \\pi}{\\lambda}$, where $\\lambda$ is wavelength. It's analogous to the quantity $\\omega = 2 \\pi f$, but in the $x$ dimension instead of the $t$ dimension. The relationship between $k$ and $\\omega$ for surface water waves is:\n",
      "\n",
      "$$ \\omega^2 = g k \\tanh{kH} $$\n",
      "\n",
      "This is a transcendental equation which can't be solved explicitly for $k$. However, we can approximate the value of $k$ in terms of $\\omega$ using the secant method of root-finding.\n",
      "\n",
      "\n",
      "Let's assume a water depth of $H = 20 m$, and a sensor position of $z = 10 m$."
     ]
    },
    {
     "cell_type": "code",
     "collapsed": false,
     "input": [
      "from scipy.optimize import newton\n",
      "\n",
      "g = 9.8\n",
      "f = 0.2\n",
      "h = 20\n",
      "\n",
      "func = lambda k: g*k*tanh(k*h) - (2*pi*f)**2\n",
      "newton(func, 0)"
     ],
     "language": "python",
     "metadata": {},
     "outputs": [
      {
       "metadata": {},
       "output_type": "pyout",
       "prompt_number": 69,
       "text": [
        "0.16163868141023655"
       ]
      }
     ],
     "prompt_number": 69
    },
    {
     "cell_type": "markdown",
     "metadata": {},
     "source": [
      "The secant method found a root at $k \\approx .1616$ for a wave with frequency $f = 0.2$. Let's verify this result by putting the dispersion relation into this form:\n",
      "\n",
      "$$ f = \\frac{1}{2 \\pi} \\sqrt{g k \\tanh{k h}} $$"
     ]
    },
    {
     "cell_type": "code",
     "collapsed": false,
     "input": [
      "#sqrt(g*.1616* tanh(.1616*h)) / (2*pi)\n",
      "sqrt(g*4*tanh(4*h))/(2*pi)"
     ],
     "language": "python",
     "metadata": {},
     "outputs": [
      {
       "metadata": {},
       "output_type": "pyout",
       "prompt_number": 74,
       "text": [
        "0.99646756078404797"
       ]
      }
     ],
     "prompt_number": 74
    },
    {
     "cell_type": "markdown",
     "metadata": {},
     "source": [
      "We're only off by .00003 Hertz - not too bad!"
     ]
    }
   ],
   "metadata": {}
  }
 ]
}