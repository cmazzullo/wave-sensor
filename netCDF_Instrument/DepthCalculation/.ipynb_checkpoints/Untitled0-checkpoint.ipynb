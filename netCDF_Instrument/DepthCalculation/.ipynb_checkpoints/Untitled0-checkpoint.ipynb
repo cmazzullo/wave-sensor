{
 "metadata": {
  "name": "",
  "signature": "sha256:498f6f8f0e7eb6620a3370fba65a105929efe23f8e30194c31a8817d78c71e7c"
 },
 "nbformat": 3,
 "nbformat_minor": 0,
 "worksheets": []
}