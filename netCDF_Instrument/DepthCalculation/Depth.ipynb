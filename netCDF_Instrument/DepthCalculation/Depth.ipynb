{
 "metadata": {
  "name": "",
  "signature": "sha256:4781b24ffa5782ee59fd920e4dcc8dde7abff9517d92698104ac9da3e1cc89df"
 },
 "nbformat": 3,
 "nbformat_minor": 0,
 "worksheets": [
  {
   "cells": [
    {
     "cell_type": "code",
     "collapsed": false,
     "input": [
      "import depth"
     ],
     "language": "python",
     "metadata": {},
     "outputs": [
      {
       "ename": "ImportError",
       "evalue": "No module named 'edit_netcdf'",
       "output_type": "pyerr",
       "traceback": [
        "\u001b[1;31m---------------------------------------------------------------------------\u001b[0m\n\u001b[1;31mImportError\u001b[0m                               Traceback (most recent call last)",
        "\u001b[1;32m<ipython-input-1-f19721fdd51f>\u001b[0m in \u001b[0;36m<module>\u001b[1;34m()\u001b[0m\n\u001b[1;32m----> 1\u001b[1;33m \u001b[1;32mimport\u001b[0m \u001b[0mdepth\u001b[0m\u001b[1;33m\u001b[0m\u001b[0m\n\u001b[0m",
        "\u001b[1;32mC:\\Users\\Gregory\\Documents\\GitHub\\wave-sensor\\netCDF_Instrument\\DepthCalculation\\depth.py\u001b[0m in \u001b[0;36m<module>\u001b[1;34m()\u001b[0m\n\u001b[0;32m     16\u001b[0m     \u001b[1;32mimport\u001b[0m \u001b[0mNetCDF_Utils\u001b[0m\u001b[1;33m.\u001b[0m\u001b[0mTesting\u001b[0m \u001b[1;32mas\u001b[0m \u001b[0mtests\u001b[0m\u001b[1;33m\u001b[0m\u001b[0m\n\u001b[0;32m     17\u001b[0m \u001b[1;32mexcept\u001b[0m\u001b[1;33m:\u001b[0m\u001b[1;33m\u001b[0m\u001b[0m\n\u001b[1;32m---> 18\u001b[1;33m     \u001b[1;32mfrom\u001b[0m \u001b[0medit_netcdf\u001b[0m \u001b[1;32mimport\u001b[0m \u001b[0mNetCDFReader\u001b[0m\u001b[1;33m,\u001b[0m \u001b[0mNetCDFWriter\u001b[0m\u001b[1;33m\u001b[0m\u001b[0m\n\u001b[0m\u001b[0;32m     19\u001b[0m     \u001b[1;32mimport\u001b[0m \u001b[0mncar_rap\u001b[0m \u001b[1;32mas\u001b[0m \u001b[0mrap\u001b[0m\u001b[1;33m\u001b[0m\u001b[0m\n\u001b[0;32m     20\u001b[0m     \u001b[1;32mimport\u001b[0m \u001b[0mVarDatastore\u001b[0m \u001b[1;32mas\u001b[0m \u001b[0mv_store\u001b[0m\u001b[1;33m\u001b[0m\u001b[0m\n",
        "\u001b[1;31mImportError\u001b[0m: No module named 'edit_netcdf'"
       ]
      }
     ],
     "prompt_number": 1
    },
    {
     "cell_type": "code",
     "collapsed": false,
     "input": [],
     "language": "python",
     "metadata": {},
     "outputs": []
    }
   ],
   "metadata": {}
  }
 ]
}