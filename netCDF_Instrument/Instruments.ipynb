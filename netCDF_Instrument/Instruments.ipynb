{
 "metadata": {
  "name": "",
  "signature": "sha256:33d546e721c047d7731ae3b68dcf90f88e5f6a6cd921a8d96d5037c62143bc41"
 },
 "nbformat": 3,
 "nbformat_minor": 0,
 "worksheets": [
  {
   "cells": [
    {
     "cell_type": "markdown",
     "metadata": {},
     "source": [
      "<a href=\"Wave Lab Documentation.ipynb\">Return to main page</a>"
     ]
    },
    {
     "cell_type": "heading",
     "level": 1,
     "metadata": {},
     "source": [
      "Instruments"
     ]
    },
    {
     "cell_type": "markdown",
     "metadata": {},
     "source": [
      "The following table lists all the instruments supported in this project alphabetically and includes their associated python files in the Instruments package. (Note that aside from calculations that use pascals in other scripts the standard unit of measure for pressure is decibars, instruments that output pressure in other units have methods to convert the values to decibars):\n",
      "\n",
      "<table style=\"float:left; margin-bottom: 15px\"><tr><th>Instrument</th><th>File Name</th><th>Original Pressure Units</th><th>Conversion to Dbars</th></tr>\n",
      "<tr><td>Hobo</td><td>hobo.py</td><td>PSI</td><td>x / 1.45037738</td></tr>\n",
      "<tr><td>Level Troll</td><td>leveltroll.py</td><td>PSI</td><td>x / 1.45037738</td></tr>\n",
      "<tr><td>Measurement Specialties Wavelogger</td><td>measuresys.py</td><td>PSI</td><td>x / 1.45037738</td></tr>\n",
      "<tr><td>Ocean Systems Waveguage</td><td>waveguage.py</td><td>Bars</td><td>x * 10</td></tr>\n",
      "<tr><td>RBR Solo/RBR Virtuoso</td><td>rbrsolo.py</td><td>Decibars</td><td>N/a</td></tr>\n",
      "<tr><td>USGS Wavelogger</td><td>house.py</td><td>PSIG</td><td>(x  + 14.7) / 1.45037738</td></tr>\n",
      "</table>"
     ]
    },
    {
     "cell_type": "markdown",
     "metadata": {},
     "source": [
      "*Pressure in this case is raw pressure meaning pressure before atmospheric pressure is subtracted"
     ]
    },
    {
     "cell_type": "heading",
     "level": 1,
     "metadata": {},
     "source": [
      "Extracting Data"
     ]
    },
    {
     "cell_type": "markdown",
     "metadata": {},
     "source": [
      "In order to convert the data in to a netCDF file there will need to be either a .csv or .txt file extracted from the instrument.  Some will have the data stored on a flashcard, others will need to be extracted using the istruments' software.  The following is how RBR Ruskin software will extract this txt file:\n",
      "\n",
      "<img style=\"float:left;width: 600px; height: 400px\" src=\"Images/RuskinExample.JPG\" />"
     ]
    },
    {
     "cell_type": "code",
     "collapsed": false,
     "input": [
      "%%javascript\n",
      "$(element).prepend('<button id=\"toggleInput\">Toggle Input</button>');"
     ],
     "language": "python",
     "metadata": {},
     "outputs": [
      {
       "javascript": [
        "$(element).prepend('<button id=\"toggleInput\">Toggle Input</button>');"
       ],
       "metadata": {},
       "output_type": "display_data",
       "text": [
        "<IPython.core.display.Javascript at 0x45c05d0>"
       ]
      }
     ],
     "prompt_number": 1
    },
    {
     "cell_type": "code",
     "collapsed": false,
     "input": [
      "%%javascript\n",
      "\n",
      "var hide = true;\n",
      "\n",
      "$('#toggleInput').click(function() {\n",
      "\n",
      "     $('div.input').toggle();\n",
      "\n",
      "  })"
     ],
     "language": "python",
     "metadata": {},
     "outputs": [
      {
       "javascript": [
        "\n",
        "var hide = true;\n",
        "\n",
        "$('#toggleInput').click(function() {\n",
        "\n",
        "     $('div.input').toggle();\n",
        "\n",
        "  })"
       ],
       "metadata": {},
       "output_type": "display_data",
       "text": [
        "<IPython.core.display.Javascript at 0x45c05d0>"
       ]
      }
     ],
     "prompt_number": 2
    },
    {
     "cell_type": "heading",
     "level": 2,
     "metadata": {},
     "source": [
      "Ingesting the Files"
     ]
    },
    {
     "cell_type": "markdown",
     "metadata": {},
     "source": [
      "Import Statements"
     ]
    },
    {
     "cell_type": "code",
     "collapsed": false,
     "input": [
      "import os\n",
      "import sys\n",
      "import pytz\n",
      "import pandas\n",
      "import re\n",
      "import numpy as np\n",
      "\n",
      "sys.path.append('..')\n",
      "\n",
      "import NetCDF_Utils.DateTimeConvert as dateconvert\n",
      "from NetCDF_Utils.Testing import DataTests\n",
      "from NetCDF_Utils.edit_netcdf import NetCDFWriter"
     ],
     "language": "python",
     "metadata": {},
     "outputs": [],
     "prompt_number": 3
    },
    {
     "cell_type": "markdown",
     "metadata": {},
     "source": [
      "The scripts take advantage of the pandas library which takes a .csv or .txt file and uses c extensions to convert them in to a dataframe, ultimately benefiting the developer in terms of flexibility and the end user in terms of performance.  The following is an example of an instrument class:\n",
      "\n"
     ]
    },
    {
     "cell_type": "code",
     "collapsed": false,
     "input": [
      "class RBRSolo(NetCDFWriter):\n",
      "    '''derived class for RBR solo engineer text files, (exported via ruskin software)\n",
      "    '''\n",
      "    def __init__(self):\n",
      "        self.timezone_marker = \"time zone\"      \n",
      "        super().__init__()\n",
      "        \n",
      "        self.tz_info = pytz.timezone(\"US/Eastern\")\n",
      "        self.frequency = 4\n",
      "        self.date_format_string = '%d-%b-%Y %H:%M:%S.%f'  \n",
      "        self.data_tests = DataTests()\n",
      "        \n",
      "    def read(self):\n",
      "        '''load the data from in_filename\n",
      "        only parse the initial datetime = much faster\n",
      "        '''\n",
      "        skip_index = self.read_start('^[0-9]{2}-[A-Z]{1}[a-z]{2,8}-[0-9]{4}$',' ')\n",
      "        #for skipping lines in case there is calibration header data\n",
      "        df = pandas.read_csv(self.in_filename,skiprows=skip_index, delim_whitespace=True, \\\n",
      "                            header=None, engine='c', usecols=[0,1,2])\n",
      "        \n",
      "         #This gets the date and time since they are in two separate columns\n",
      "        self.utc_millisecond_data = dateconvert.convert_to_milliseconds(df.shape[0] - 1, \\\n",
      "                                                            ('%s %s' % (df[0][0],df[1][0])), \\\n",
      "                                                            self.date_format_string, self.frequency)\n",
      "        \n",
      "        self.pressure_data = [x for x in df[2][:-1]]\n",
      "        \n",
      "    def read_start(self, expression, delimeter):\n",
      "        '''Finds the beginning of the data in the file to create a dataframe'''\n",
      "        skip_index = 0;\n",
      "        with open(self.in_filename,'r') as fileText:\n",
      "            for x in fileText:\n",
      "                file_string = x.split(delimeter)[0]\n",
      "                if re.match(expression, file_string):\n",
      "                    print('Success! Index %s' % skip_index)\n",
      "                    break\n",
      "                skip_index += 1   \n",
      "        return skip_index  \n",
      "    \n",
      "    def write(self):\n",
      "        '''Writes data to a netCDF file'''\n",
      "        self.vstore.pressure_data = self.pressure_data\n",
      "        self.vstore.utc_millisecond_data = self.utc_millisecond_data\n",
      "        self.vstore.latitutde = self.latitude\n",
      "        self.vstore.longitude = self.longitude\n",
      "     \n",
      "        #Tests#\n",
      "        self.data_tests.pressure_data = self.pressure_data\n",
      "        self.vstore.pressure_qc_data = self.data_tests.select_tests('pressure')\n",
      "        \n",
      "        self.write_netCDF(self.vstore, len(self.pressure_data))  "
     ],
     "language": "python",
     "metadata": {},
     "outputs": [],
     "prompt_number": 4
    },
    {
     "cell_type": "markdown",
     "metadata": {},
     "source": [
      "The file runs the read method, calls the read_start to find the beginning of the data, and then afterwards writes the data to a netcdf file.  \n",
      "\n",
      "<b>*Note: There are two guis for script 1: one for raw sea pressure and the other for air pressure.  Both use the same scripts, however they write different metadata to the netCDF file accordingly.\n",
      "You can run either gui by clicking their corresponding buttons."
     ]
    },
    {
     "cell_type": "code",
     "collapsed": false,
     "input": [
      "import IPython.html.widgets as widgets\n",
      "from IPython.display import display, clear_output\n",
      "\n",
      "def gui(a):\n",
      "    %run 'Instruments\\gui_sea.py'\n",
      "def guib(a):\n",
      "    % run 'Instruments\\gui_air.py'"
     ],
     "language": "python",
     "metadata": {},
     "outputs": [],
     "prompt_number": 2
    },
    {
     "cell_type": "code",
     "collapsed": false,
     "input": [
      "form = widgets.ContainerWidget()\n",
      "gui_button = widgets.ButtonWidget()\n",
      "gui_button.on_click(gui)\n",
      "gui_button.description = 'Run Sea GUI Script'\n",
      "gui_air_button = widgets.ButtonWidget()\n",
      "gui_air_button.on_click(guib)\n",
      "gui_air_button.description = 'Run Air GUI Script'\n",
      "form.children = [gui_button,gui_air_button]\n",
      "display(form)\n"
     ],
     "language": "python",
     "metadata": {},
     "outputs": [],
     "prompt_number": 3
    },
    {
     "cell_type": "code",
     "collapsed": false,
     "input": [],
     "language": "python",
     "metadata": {},
     "outputs": [],
     "prompt_number": 6
    }
   ],
   "metadata": {}
  }
 ]
}