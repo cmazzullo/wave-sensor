{
 "metadata": {
  "name": "",
  "signature": "sha256:cc1eaeea66463069bfd8a55358c1a7f8c77cce621ffe958e634d21e976bda022"
 },
 "nbformat": 3,
 "nbformat_minor": 0,
 "worksheets": [
  {
   "cells": [
    {
     "cell_type": "heading",
     "level": 1,
     "metadata": {},
     "source": [
      "Instruments"
     ]
    },
    {
     "cell_type": "markdown",
     "metadata": {},
     "source": [
      "The following table lists all the instruments supported in this project alphabetically and includes their associated python files in the Instruments package:\n",
      "\n",
      "<table style=\"float:left; margin-bottom: 15px\"><tr><th>Instrument</th><th>File Name</th></tr>\n",
      "<tr><td>Hobo</td><td>hobo.py</td></tr>\n",
      "<tr><td>Level Troll</td><td>leveltroll.py</td></tr>\n",
      "<tr><td>Measurement Systems Wavelogger</td><td>measuresys.py</td></tr>\n",
      "<tr><td>Ocean Systems Waveguage</td><td>waveguage.py</td></tr>\n",
      "<tr><td>RBR Solo/RBR Virtuoso</td><td>rbrsolo.py</td></tr>\n",
      "<tr><td>USGS Wavelogger</td><td>house.py</td></tr>\n",
      "</table>\n",
      "\n",
      "<p style=\"clear:both\">The majority of examples in this notebook will use the RBR Solo as an example</p>"
     ]
    },
    {
     "cell_type": "heading",
     "level": 1,
     "metadata": {},
     "source": [
      "Extracting Data"
     ]
    },
    {
     "cell_type": "markdown",
     "metadata": {},
     "source": [
      "In order to convert the data in to a netCDF file there will need to be either a .csv or .txt file extracted from the instrument.  Some will have the data stored on a flashcard, others will need to be extracted using the istruments' software.  The following is how RBR Ruskin software will extract this txt file:\n",
      "\n",
      "<img style=\"float:left;width: 600px; height: 400px\" src=\"Images/RuskinExample.JPG\" />"
     ]
    },
    {
     "cell_type": "heading",
     "level": 2,
     "metadata": {},
     "source": [
      "Ingesting the Files"
     ]
    },
    {
     "cell_type": "markdown",
     "metadata": {},
     "source": [
      "The scripts take advantage of the pandas library which takes a .csv or .txt file and uses c extensions to convert them in to a dataframe, ultimately benefiting the developer in terms of flexibility and the end user in terms of performance.\n",
      "\n"
     ]
    },
    {
     "cell_type": "code",
     "collapsed": false,
     "input": [
      "import os\n",
      "import sys\n",
      "import pytz\n",
      "import pandas\n",
      "import re\n",
      "import numpy as np\n",
      "\n",
      "sys.path.append('..')\n",
      "\n",
      "import NetCDF_Utils.DateTimeConvert as dateconvert\n",
      "from NetCDF_Utils.Testing import DataTests\n",
      "from NetCDF_Utils.edit_netcdf import NetCDFWriter"
     ],
     "language": "python",
     "metadata": {},
     "outputs": [],
     "prompt_number": 2
    },
    {
     "cell_type": "code",
     "collapsed": false,
     "input": [
      "class RBRSolo(NetCDFWriter):\n",
      "    '''derived class for RBR solo engineer text files, (exported via ruskin software)\n",
      "    '''\n",
      "    def __init__(self):\n",
      "        self.timezone_marker = \"time zone\"      \n",
      "        super().__init__()\n",
      "        \n",
      "        self.tz_info = pytz.timezone(\"US/Eastern\")\n",
      "        self.frequency = 4\n",
      "        self.date_format_string = '%d-%b-%Y %H:%M:%S.%f'  \n",
      "        self.data_tests = DataTests()\n",
      "        \n",
      "    def read(self):\n",
      "        '''load the data from in_filename\n",
      "        only parse the initial datetime = much faster\n",
      "        '''\n",
      "        skip_index = self.read_start('^[0-9]{2}-[A-Z]{1}[a-z]{2,8}-[0-9]{4}$',' ')\n",
      "        #for skipping lines in case there is calibration header data\n",
      "        df = pandas.read_csv(self.in_filename,skiprows=skip_index, delim_whitespace=True, \\\n",
      "                            header=None, engine='c', usecols=[0,1,2])\n",
      "        \n",
      "         #This gets the date and time since they are in two separate columns\n",
      "        self.utc_millisecond_data = dateconvert.convert_to_milliseconds(df.shape[0] - 1, \\\n",
      "                                                            ('%s %s' % (df[0][0],df[1][0])), \\\n",
      "                                                            self.date_format_string, self.frequency)\n",
      "        \n",
      "        self.pressure_data = [x for x in df[2][:-1]]\n",
      "       \n",
      "        print(len(self.pressure_data))\n",
      "        \n",
      "    def read_start(self, expression, delimeter):\n",
      "        skip_index = 0;\n",
      "        with open(self.in_filename,'r') as fileText:\n",
      "            for x in fileText:\n",
      "                file_string = x.split(delimeter)[0]\n",
      "                if re.match(expression, file_string):\n",
      "                    print('Success! Index %s' % skip_index)\n",
      "                    break\n",
      "                skip_index += 1   \n",
      "        return skip_index  \n",
      "    \n",
      "    def write(self):\n",
      "        self.vstore.pressure_data = self.pressure_data\n",
      "        self.vstore.utc_millisecond_data = self.utc_millisecond_data\n",
      "        self.vstore.latitutde = self.latitude\n",
      "        self.vstore.longitude = self.longitude\n",
      "     \n",
      "        #Tests#\n",
      "        self.data_tests.pressure_data = self.pressure_data\n",
      "        self.vstore.pressure_qc_data = self.data_tests.select_tests('pressure')\n",
      "        \n",
      "        self.write_netCDF(self.vstore, len(self.pressure_data))  "
     ],
     "language": "python",
     "metadata": {},
     "outputs": [],
     "prompt_number": 4
    },
    {
     "cell_type": "code",
     "collapsed": false,
     "input": [],
     "language": "python",
     "metadata": {},
     "outputs": []
    },
    {
     "cell_type": "code",
     "collapsed": false,
     "input": [],
     "language": "python",
     "metadata": {},
     "outputs": []
    }
   ],
   "metadata": {}
  }
 ]
}