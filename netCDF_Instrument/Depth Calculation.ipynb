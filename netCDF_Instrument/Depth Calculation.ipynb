{
 "metadata": {
  "name": "",
  "signature": "sha256:b2454deba313ee8fd792cd20ef4c9de1f69bf5402f153bda2fa7544a36185731"
 },
 "nbformat": 3,
 "nbformat_minor": 0,
 "worksheets": [
  {
   "cells": [
    {
     "cell_type": "heading",
     "level": 1,
     "metadata": {},
     "source": [
      "Calculating Depth"
     ]
    },
    {
     "cell_type": "heading",
     "level": 1,
     "metadata": {},
     "source": []
    }
   ],
   "metadata": {}
  }
 ]
}