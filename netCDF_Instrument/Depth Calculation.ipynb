{
 "metadata": {
  "name": "",
  "signature": "sha256:980e19e4aa865dab799980ab1782ce3a606c691b0d0f73766b7aaa5ec058ba53"
 },
 "nbformat": 3,
 "nbformat_minor": 0,
 "worksheets": [
  {
   "cells": [
    {
     "cell_type": "markdown",
     "metadata": {},
     "source": [
      "<a href=\"Wave Lab Documentation.ipynb\">Return to main page</a>"
     ]
    },
    {
     "cell_type": "heading",
     "level": 1,
     "metadata": {},
     "source": [
      "Calculating Depth"
     ]
    },
    {
     "cell_type": "markdown",
     "metadata": {},
     "source": [
      "The \"Depth Calculation\" package contains the scripts to calculate water depth. For the purpose of this project we are using Linear Wave Theory (LTW) to derive our calculations.  LTW has shortcomings since there tends to be inaccurate data at deep depths but since the instruments that are being deployed will be at depths that are relatively shallow using LTW is appropriate."
     ]
    },
    {
     "cell_type": "markdown",
     "metadata": {},
     "source": [
      "In our depth calculation gui there are three methods that are available to the end user:"
     ]
    },
    {
     "cell_type": "markdown",
     "metadata": {},
     "source": [
      "<b style=\"font-size: 9pt\">*Methods are split for convenience of explanation, the full methods are posted below as well as an interface to run the depth gui<b>"
     ]
    },
    {
     "cell_type": "heading",
     "level": 3,
     "metadata": {},
     "source": [
      "1. The \"Naive\" Method"
     ]
    },
    {
     "cell_type": "markdown",
     "metadata": {},
     "source": [
      "In this instance the water depth is calculated by a simple equation: $\\hspace{5mm}\\eta = \\dfrac{p}{\\rho g}$"
     ]
    },
    {
     "cell_type": "heading",
     "level": 3,
     "metadata": {},
     "source": [
      "2. \"Method 2\" Downward Crossing / Linear Regression Method"
     ]
    },
    {
     "cell_type": "markdown",
     "metadata": {},
     "source": [
      "We take advantage of the following formulas:\n",
      "\n",
      "<table style=\"float: left\">\n",
      "<tr><th>Process</th><th>Formula</th>\n",
      "<tr><td>Depth by Subtracting Hydrostatic Pressure</td><td>$\\Delta p = \\rho g \\eta \\dfrac{cosh  \\hspace{1 mm} k(h+z)}{cosh \\hspace{1 mm} k}$</td></tr>\n",
      "<tr><td>Water Level</td><td>$\\eta = \\dfrac{\\Delta p}{\\rho g} \\dfrac{cos \\hspace{1mm} kh}{cosh \\hspace{1mm} k(h+z)}$</tr>\n",
      "<tr><td>Reduced Water Level Formula</td><td>$\\eta = \\dfrac{\\Delta p}{\\rho g}cosh \\hspace{1mm} kh$</td></tr>\n",
      "</table>"
     ]
    },
    {
     "cell_type": "markdown",
     "metadata": {},
     "source": [
      "First we want to calculate our hydrostatic pressure data by taking our pressure data series and performing a 1 dimensional polynomial best fit line to the data.  Afterwards we get our pwave data by subtracting the pressure series by the pstatic series.  "
     ]
    },
    {
     "cell_type": "code",
     "collapsed": false,
     "input": [
      "def make_pstatic(p):\n",
      "    \"\"\"p - pressure data series\"\"\"\n",
      "    x = np.arange(len(p))\n",
      "    slope, intercept = np.polyfit(x, p, 1)\n",
      "    pstatic = slope * x + intercept\n",
      "    return pstatic"
     ],
     "language": "python",
     "metadata": {},
     "outputs": []
    },
    {
     "cell_type": "markdown",
     "metadata": {},
     "source": [
      "We then organize the data in to waves by using the downward crossing method.  If a wave crosses the x axis from above and then ends below the x axis it is considered a wave.  Then, waves with heights that are too small or that exceed a valid steepness are filtered out. "
     ]
    },
    {
     "cell_type": "code",
     "collapsed": false,
     "input": [
      "Pwave = p - make_pstatic(p) #where p is the pressure data series\n",
      "periods = []  # periods of found waves\n",
      "eta = np.zeros(len(Pwave))\n",
      "interval = 1 / 4\n",
      "steepness = 0.03\n",
      "Hminimum = 0.10\n",
      "H = []\n",
      "\n",
      "    for i in range(len(Pwave) - 1):\n",
      "        if Pwave[i] > 0 and Pwave[i+1] < 0:\n",
      "            periods.append(period)\n",
      "            # w**2 = g * k, the dispersion relation for deep water\n",
      "            wavelength = g * period**2 / (2 * np.pi)\n",
      "            # if the water is too shallow\n",
      "            if depth[i] / wavelength < 0.36:\n",
      "                wavelength = ((g * depth[i])**(1/2) *\n",
      "                              (1 - depth[i] / wavelength) *\n",
      "                              period)\n",
      "                height = (((Pmax - Pmin) / (rho * g)) *\n",
      "                          np.cosh(2 * np.pi * depth[i] /\n",
      "                                  wavelength))\n",
      "            H.append(height)\n",
      "            Hunreduced = Hreduced = height\n",
      "            if height / wavelength > steepness:\n",
      "                Hreduced = steepness * wavelength\n",
      "                H.append(Hreduced)\n",
      "            if height < Hminimum:\n",
      "                H.pop()\n",
      "                Hreduced = Hminimum\n",
      "                counter -= 1\n",
      "            if str(wavelength) == 'nan':\n",
      "                H.pop()\n",
      "            reduction = Hreduced / Hunreduced"
     ],
     "language": "python",
     "metadata": {},
     "outputs": []
    },
    {
     "cell_type": "markdown",
     "metadata": {},
     "source": [
      "Afterwards we calculate the water level:"
     ]
    },
    {
     "cell_type": "code",
     "collapsed": false,
     "input": [
      "for j in range(start, i):\n",
      "                eta[j] = ((Pwave[j] * reduction) / (rho * g)) * \\\n",
      "                         np.cosh(2 * np.pi * depth[j] / wavelength)\n",
      "            start = i + 1\n",
      "            period = Pmax = Pmin = 0\n",
      "            counter += 1"
     ],
     "language": "python",
     "metadata": {},
     "outputs": []
    },
    {
     "cell_type": "heading",
     "level": 3,
     "metadata": {},
     "source": [
      "3. The \"FFT Method\""
     ]
    },
    {
     "cell_type": "markdown",
     "metadata": {},
     "source": [
      "This method calculates the depth using Fourier Analysis.  First you take a gate array of 1s or any specified value in order to filter out noise. We also provide the option to using window function which takes advantage of numpys hamming method in order to account for skewed data caused by Gibbs Phenomenon."
     ]
    },
    {
     "cell_type": "code",
     "collapsed": false,
     "input": [
      "p = p_dbar * 1e4\n",
      "    n = len(p)\n",
      "    raw_gate_array = np.ones_like(p) * gate\n",
      "\n",
      "    if window:\n",
      "        window_func = np.hamming(n)\n",
      "        scaled_p = p * window_func  # scale by a hamming window\n",
      "        gate_array = raw_gate_array * window_func\n",
      "    else:\n",
      "        scaled_p = p\n",
      "        gate_array = raw_gate_array"
     ],
     "language": "python",
     "metadata": {},
     "outputs": []
    },
    {
     "cell_type": "markdown",
     "metadata": {},
     "source": [
      "We then take a real fourier transform of the scaled pressure and a real fourer transform frequency of the length of the pressure series.  If the amplitudes are within valid ranges and the frequency is less than the cutoff, we calculate the wavenumber and then convert pressure to water level.  Finally, we apply an inverse real fourier transform on the new amplitudes to get the water level, also dividing by the windowing function if it was originally applied."
     ]
    },
    {
     "cell_type": "code",
     "collapsed": false,
     "input": [
      "amps = np.fft.rfft(scaled_p)\n",
      "    freqs = np.fft.rfftfreq(n, d=timestep)\n",
      "    new_amps = np.zeros_like(amps)\n",
      "\n",
      "    for i in range(len(amps)):\n",
      "        # Filter out the noise with amp_cutoff\n",
      "        if np.absolute(amps[i] / n) >= gate_array[i]:\n",
      "            if cutoff == -1 or freqs[i] < cutoff:\n",
      "                k = omega_to_k(freqs[i] * 2 * np.pi, H[i]) #wave number\n",
      "                # Scale, applying the diffusion relation\n",
      "                a = pressure_to_eta(amps[i], k, z, H[i])\n",
      "                new_amps[i] = a\n",
      "    # Convert back to time space\n",
      "    eta = np.fft.irfft(new_amps)\n",
      "    if window:\n",
      "        eta = eta / window_func\n",
      "    return eta\n",
      "\n",
      "def omega_to_k(omega, H):\n",
      "    \"\"\"\n",
      "    Gets the wave number from the angular frequency using the\n",
      "    dispersion relation for water waves and Newton's method.\n",
      "    \"\"\"\n",
      "    f = lambda k: omega**2 - k * g * np.tanh(k * H)\n",
      "    return newton(f, 0)\n",
      "\n",
      "def pressure_to_eta(del_p, k, z, H):\n",
      "    \"\"\"Converts the non-hydrostatic pressure to height above z=0.\"\"\"\n",
      "    c = _coefficient(k, z, H)\n",
      "    return del_p / c"
     ],
     "language": "python",
     "metadata": {},
     "outputs": []
    },
    {
     "cell_type": "markdown",
     "metadata": {},
     "source": [
      "Pressure to eta is calculated with the following coefficient:"
     ]
    },
    {
     "cell_type": "markdown",
     "metadata": {},
     "source": [
      "$\\rho g \\dfrac{cosh  \\hspace{1 mm} k(h+z)}{cosh \\hspace{1 mm} kh}$"
     ]
    },
    {
     "cell_type": "code",
     "collapsed": false,
     "input": [
      "def _coefficient(k, z, H):\n",
      "    \"\"\"Returns C, a coefficient to transform pressure to eta \n",
      "    and vice versa.\"\"\"\n",
      "    return rho * g * np.cosh(k * (H + z)) / np.cosh(k * H)"
     ],
     "language": "python",
     "metadata": {},
     "outputs": []
    },
    {
     "cell_type": "heading",
     "level": 3,
     "metadata": {},
     "source": [
      "Click \"Run Gui Script\" below to start the Depth Gui"
     ]
    },
    {
     "cell_type": "code",
     "collapsed": false,
     "input": [
      "import IPython.html.widgets as widgets\n",
      "from IPython.display import display, clear_output\n",
      "\n",
      "def gui(a):\n",
      "    %run 'DepthCalculation\\script2_gui.py'"
     ],
     "language": "python",
     "metadata": {},
     "outputs": [],
     "prompt_number": 3
    },
    {
     "cell_type": "code",
     "collapsed": false,
     "input": [
      "form = widgets.ContainerWidget()\n",
      "# rbr_button = widgets.ButtonWidget()\n",
      "# rbr_button.on_click(rbr)\n",
      "# rbr_button.description = 'Run RBR Script'\n",
      "gui_button = widgets.ButtonWidget()\n",
      "gui_button.on_click(gui)\n",
      "gui_button.description = 'Run GUI Script'\n",
      "form.children = [gui_button]\n",
      "display(form)"
     ],
     "language": "python",
     "metadata": {},
     "outputs": [],
     "prompt_number": 4
    },
    {
     "cell_type": "heading",
     "level": 3,
     "metadata": {},
     "source": [
      "Full Methods:"
     ]
    },
    {
     "cell_type": "heading",
     "level": 4,
     "metadata": {},
     "source": [
      "Method 2"
     ]
    },
    {
     "cell_type": "code",
     "collapsed": false,
     "input": [
      "def method2(p_dbar):\n",
      "    \"\"\"Downward crossing method: if the function crosses the x axis in\n",
      "    an interval and if its endpoint is below the x axis, we've found\n",
      "    a new wave.\"\"\"\n",
      "    p = p_dbar * 1e4            # convert to Pascals\n",
      "    Pstatic = make_pstatic(p)\n",
      "    Pwave = p - Pstatic\n",
      "    depth = Pstatic / (rho * g)\n",
      "    start = period = counter = Pmin = Pmax = 0\n",
      "    periods = []  # periods of found waves\n",
      "    eta = np.zeros(len(Pwave))\n",
      "    interval = 1 / 4\n",
      "    steepness = 0.03\n",
      "    Hminimum = 0.10\n",
      "    H = []\n",
      "\n",
      "    for i in range(len(Pwave) - 1):\n",
      "        if Pwave[i] > 0 and Pwave[i+1] < 0:\n",
      "            periods.append(period)\n",
      "            # w**2 = g * k, the dispersion relation for deep water\n",
      "            wavelength = g * period**2 / (2 * np.pi)\n",
      "            # if the water is too shallow\n",
      "            if depth[i] / wavelength < 0.36:\n",
      "                wavelength = ((g * depth[i])**(1/2) *\n",
      "                              (1 - depth[i] / wavelength) *\n",
      "                              period)\n",
      "                height = (((Pmax - Pmin) / (rho * g)) *\n",
      "                          np.cosh(2 * np.pi * depth[i] /\n",
      "                                  wavelength))\n",
      "            H.append(height)\n",
      "            Hunreduced = Hreduced = height\n",
      "            if height / wavelength > steepness:\n",
      "                Hreduced = steepness * wavelength\n",
      "                H.append(Hreduced)\n",
      "            if height < Hminimum:\n",
      "                H.pop()\n",
      "                Hreduced = Hminimum\n",
      "                counter -= 1\n",
      "            if str(wavelength) == 'nan':\n",
      "                H.pop()\n",
      "            reduction = Hreduced / Hunreduced\n",
      "        period = period + interval\n",
      "        if Pwave[i] > Pmax:\n",
      "            Pmax = Pwave[i]\n",
      "        if Pwave[i] < Pmin:\n",
      "            Pmin = Pwave[i]\n",
      "\n",
      "    return eta + depth"
     ],
     "language": "python",
     "metadata": {},
     "outputs": []
    },
    {
     "cell_type": "heading",
     "level": 4,
     "metadata": {},
     "source": [
      "FFT Method"
     ]
    },
    {
     "cell_type": "code",
     "collapsed": false,
     "input": [
      "def fft_method(t, p_dbar, z, H, timestep, gate=0, window=True,\n",
      "                      cutoff=-1):\n",
      "    \"\"\"\n",
      "    Takes an array of pressure readings and creates wave height data.\n",
      "\n",
      "    t -- the time array\n",
      "    p_dbar -- an array of pressure readings such that len(t) == len(p)\n",
      "    z -- the depth of the sensor\n",
      "    H -- the water depth (array)\n",
      "    timestep -- the time interval in between pressure readings\n",
      "    amp_cutoff -- any fluctuations in the pressure that are less than this\n",
      "                  threshold won't be used in the height data.\n",
      "    \"\"\"\n",
      "    print('Calculating depth...')\n",
      "    # Put the pressure data into frequency space\n",
      "    p = p_dbar * 1e4\n",
      "    n = len(p)\n",
      "    raw_gate_array = np.ones_like(p) * gate\n",
      "\n",
      "    if window:\n",
      "        window_func = np.hamming(n)\n",
      "        scaled_p = p * window_func  # scale by a hamming window\n",
      "        gate_array = raw_gate_array * window_func\n",
      "    else:\n",
      "        scaled_p = p\n",
      "        gate_array = raw_gate_array\n",
      "\n",
      "    amps = np.fft.rfft(scaled_p)\n",
      "    freqs = np.fft.rfftfreq(n, d=timestep)\n",
      "    new_amps = np.zeros_like(amps)\n",
      "\n",
      "    for i in range(len(amps)):\n",
      "        # Filter out the noise with amp_cutoff\n",
      "        if np.absolute(amps[i] / n) >= gate_array[i]:\n",
      "            if cutoff == -1 or freqs[i] < cutoff:\n",
      "                k = omega_to_k(freqs[i] * 2 * np.pi, H[i])\n",
      "                # Scale, applying the diffusion relation\n",
      "                a = pressure_to_eta(amps[i], k, z, H[i])\n",
      "                new_amps[i] = a\n",
      "    # Convert back to time space\n",
      "    eta = np.fft.irfft(new_amps)\n",
      "    if window:\n",
      "        eta = eta / window_func\n",
      "    return eta\n",
      "\n",
      "def omega_to_k(omega, H):\n",
      "    \"\"\"\n",
      "    Gets the wave number from the angular frequency using the\n",
      "    dispersion relation for water waves and Newton's method.\n",
      "    \"\"\"\n",
      "    f = lambda k: omega**2 - k * g * np.tanh(k * H)\n",
      "    return newton(f, 0)\n",
      "\n",
      "def pressure_to_eta(del_p, k, z, H):\n",
      "    \"\"\"Converts the non-hydrostatic pressure to height above z=0.\"\"\"\n",
      "    c = _coefficient(k, z, H)\n",
      "    return del_p / c"
     ],
     "language": "python",
     "metadata": {},
     "outputs": []
    }
   ],
   "metadata": {}
  }
 ]
}