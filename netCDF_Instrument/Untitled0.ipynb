{
 "metadata": {
  "name": "",
  "signature": "sha256:6ee4737cc9da55c151cb7c0cdb0d239e6a1de99ac8c19ad7e8b96c8e2a5978ae"
 },
 "nbformat": 3,
 "nbformat_minor": 0,
 "worksheets": [
  {
   "cells": [
    {
     "cell_type": "code",
     "collapsed": false,
     "input": [
      "from datetime import datetime\n",
      "import mpld3\n",
      "import pandas as pd\n",
      "import matplotlib.pyplot as plt\n",
      "import matplotlib.dates as pltdates\n",
      "\n",
      "\n",
      "%matplotlib inline\n",
      "mpld3.enable_notebook()\n",
      "plt.rcParams['figure.figsize'] = (16, 10)"
     ],
     "language": "python",
     "metadata": {},
     "outputs": [],
     "prompt_number": 15
    },
    {
     "cell_type": "code",
     "collapsed": false,
     "input": [
      "fig = plt.figure(figsize=(18,6))\n",
      "ax = fig.add_subplot(111)\n",
      "\n",
      "dates = [datetime(1900,1,1),datetime(1900,1,2),datetime(1900,1,3)]\n",
      "values = [1000,10002,3000]\n",
      "\n",
      "hfmt = pltdates.DateFormatter('%m/%d %H:%M')  \n",
      "ax.xaxis.set_major_formatter(hfmt)\n",
      "\n",
      "\n",
      "plt.plot(dates,values)\n",
      "plt.show()"
     ],
     "language": "python",
     "metadata": {},
     "outputs": []
    },
    {
     "cell_type": "code",
     "collapsed": false,
     "input": [],
     "language": "python",
     "metadata": {},
     "outputs": [],
     "prompt_number": 12
    }
   ],
   "metadata": {}
  }
 ]
}