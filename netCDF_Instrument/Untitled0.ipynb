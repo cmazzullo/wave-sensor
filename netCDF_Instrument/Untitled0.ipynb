{
 "metadata": {
  "name": "",
  "signature": "sha256:ba23adc974e9011745d01bf99ba7b0d3a0a3e92bc6c966c42a88f93cb1e0d4af"
 },
 "nbformat": 3,
 "nbformat_minor": 0,
 "worksheets": [
  {
   "cells": [
    {
     "cell_type": "code",
     "collapsed": false,
     "input": [
      "%matplotlib inline\n",
      "import matplotlib.pyplot as plt\n",
      "import numpy as np\n",
      "import mpld3\n",
      "import NetCDF_Utils.grapher as grapher\n",
      "import pandas as pd\n",
      "from DepthCalculation.depth import Depth as depth\n",
      "\n",
      "mpld3.enable_notebook()"
     ],
     "language": "python",
     "metadata": {},
     "outputs": [
      {
       "output_type": "stream",
       "stream": "stdout",
       "text": [
        "6     1\n",
        "7     2\n",
        "8     3\n",
        "9     4\n",
        "11    5\n",
        "dtype: int64\n"
       ]
      }
     ],
     "prompt_number": 1
    },
    {
     "cell_type": "code",
     "collapsed": false,
     "input": [
      "d = depth()\n",
      "d.in_file_name = 'Instruments/benchmark/RBRrsk.nc'\n",
      "d.acquire_data()\n",
      "d.plot_data()\n"
     ],
     "language": "python",
     "metadata": {},
     "outputs": [
      {
       "output_type": "stream",
       "stream": "stdout",
       "text": [
        "Done with initialization\n",
        "0.0 0.0\n",
        "Downloading pressure data..."
       ]
      },
      {
       "output_type": "stream",
       "stream": "stdout",
       "text": [
        "\n",
        "Downloading pressure data..."
       ]
      },
      {
       "output_type": "stream",
       "stream": "stdout",
       "text": [
        "\n",
        "Downloading pressure data..."
       ]
      },
      {
       "output_type": "stream",
       "stream": "stdout",
       "text": [
        "\n",
        "Writing to netCDF..."
       ]
      },
      {
       "output_type": "stream",
       "stream": "stdout",
       "text": [
        "\n",
        "Done with initialization\n",
        "done set"
       ]
      },
      {
       "output_type": "stream",
       "stream": "stdout",
       "text": [
        "\n",
        "P61DT23H54M0.0S"
       ]
      },
      {
       "output_type": "stream",
       "stream": "stdout",
       "text": [
        "\n",
        "done write\n"
       ]
      },
      {
       "ename": "AttributeError",
       "evalue": "'Depth' object has no attribute 'names'",
       "output_type": "pyerr",
       "traceback": [
        "\u001b[1;31m---------------------------------------------------------------------------\u001b[0m\n\u001b[1;31mAttributeError\u001b[0m                            Traceback (most recent call last)",
        "\u001b[1;32m<ipython-input-2-ebad5822c9ac>\u001b[0m in \u001b[0;36m<module>\u001b[1;34m()\u001b[0m\n\u001b[0;32m      2\u001b[0m \u001b[0md\u001b[0m\u001b[1;33m.\u001b[0m\u001b[0min_file_name\u001b[0m \u001b[1;33m=\u001b[0m \u001b[1;34m'Instruments/benchmark/RBRrsk.nc'\u001b[0m\u001b[1;33m\u001b[0m\u001b[0m\n\u001b[0;32m      3\u001b[0m \u001b[0md\u001b[0m\u001b[1;33m.\u001b[0m\u001b[0macquire_data\u001b[0m\u001b[1;33m(\u001b[0m\u001b[1;33m)\u001b[0m\u001b[1;33m\u001b[0m\u001b[0m\n\u001b[1;32m----> 4\u001b[1;33m \u001b[0md\u001b[0m\u001b[1;33m.\u001b[0m\u001b[0mplot_data\u001b[0m\u001b[1;33m(\u001b[0m\u001b[1;33m)\u001b[0m\u001b[1;33m\u001b[0m\u001b[0m\n\u001b[0m",
        "\u001b[1;32mC:\\Users\\Gregory\\Documents\\GitHub\\wave-sensor\\netCDF_Instrument\\DepthCalculation\\depth.py\u001b[0m in \u001b[0;36mplot_data\u001b[1;34m(self)\u001b[0m\n\u001b[0;32m     95\u001b[0m                   alpha=0.70, linewidth=\"3.0\", linestyle=\"-\")\n\u001b[0;32m     96\u001b[0m \u001b[1;33m\u001b[0m\u001b[0m\n\u001b[1;32m---> 97\u001b[1;33m         \u001b[0mplt\u001b[0m\u001b[1;33m.\u001b[0m\u001b[0mlegend\u001b[0m\u001b[1;33m(\u001b[0m\u001b[1;33m[\u001b[0m\u001b[0mp1\u001b[0m\u001b[1;33m,\u001b[0m\u001b[0mp2\u001b[0m\u001b[1;33m,\u001b[0m\u001b[0mp3\u001b[0m\u001b[1;33m]\u001b[0m\u001b[1;33m,\u001b[0m \u001b[0mself\u001b[0m\u001b[1;33m.\u001b[0m\u001b[0mnames\u001b[0m\u001b[1;33m,\u001b[0m\u001b[0mbbox_to_anchor\u001b[0m\u001b[1;33m=\u001b[0m\u001b[1;33m(\u001b[0m\u001b[1;36m.80\u001b[0m\u001b[1;33m,\u001b[0m \u001b[1;36m1.10\u001b[0m\u001b[1;33m)\u001b[0m\u001b[1;33m,\u001b[0m \u001b[0mloc\u001b[0m\u001b[1;33m=\u001b[0m\u001b[1;36m2\u001b[0m\u001b[1;33m,\u001b[0m \u001b[0mborderaxespad\u001b[0m\u001b[1;33m=\u001b[0m\u001b[1;36m0.0\u001b[0m\u001b[1;33m)\u001b[0m\u001b[1;33m\u001b[0m\u001b[0m\n\u001b[0m\u001b[0;32m     98\u001b[0m         \u001b[0mplt\u001b[0m\u001b[1;33m.\u001b[0m\u001b[0mshow\u001b[0m\u001b[1;33m(\u001b[0m\u001b[1;33m)\u001b[0m\u001b[1;33m\u001b[0m\u001b[0m\n\u001b[0;32m     99\u001b[0m \u001b[1;33m\u001b[0m\u001b[0m\n",
        "\u001b[1;31mAttributeError\u001b[0m: 'Depth' object has no attribute 'names'"
       ]
      }
     ],
     "prompt_number": 2
    },
    {
     "cell_type": "code",
     "collapsed": false,
     "input": [
      "x = np.array([0,1,2,3])\n",
      "y = np.array([-1, 0.2, 0.9, 2.1])\n",
      "A = np.vstack([x, np.ones(len(x))]).T\n",
      "A\n",
      "\n"
     ],
     "language": "python",
     "metadata": {},
     "outputs": [
      {
       "metadata": {},
       "output_type": "pyout",
       "prompt_number": 3,
       "text": [
        "array([[ 0.,  1.],\n",
        "       [ 1.,  1.],\n",
        "       [ 2.,  1.],\n",
        "       [ 3.,  1.]])"
       ]
      }
     ],
     "prompt_number": 3
    },
    {
     "cell_type": "code",
     "collapsed": false,
     "input": [
      "m, c = np.linalg.lstsq(A, y)[0]\n",
      "print(m, c)"
     ],
     "language": "python",
     "metadata": {},
     "outputs": [
      {
       "output_type": "stream",
       "stream": "stdout",
       "text": [
        "1.0 -0.95\n"
       ]
      }
     ],
     "prompt_number": 4
    },
    {
     "cell_type": "code",
     "collapsed": false,
     "input": [
      "plt.plot(x,y, 'o', label='Original data', markersize=10)\n",
      "plt.plot(x, m*x + c,'r', label='FittedLine' )\n",
      "plt.legend()\n",
      "plt.show()"
     ],
     "language": "python",
     "metadata": {},
     "outputs": [
      {
       "html": [
        "\n",
        "\n",
        "<style>\n",
        "\n",
        "</style>\n",
        "\n",
        "<div id=\"fig_el115801084441444165358530\"></div>\n",
        "<script>\n",
        "function mpld3_load_lib(url, callback){\n",
        "  var s = document.createElement('script');\n",
        "  s.src = url;\n",
        "  s.async = true;\n",
        "  s.onreadystatechange = s.onload = callback;\n",
        "  s.onerror = function(){console.warn(\"failed to load library \" + url);};\n",
        "  document.getElementsByTagName(\"head\")[0].appendChild(s);\n",
        "}\n",
        "\n",
        "if(typeof(mpld3) !== \"undefined\" && mpld3._mpld3IsLoaded){\n",
        "   // already loaded: just create the figure\n",
        "   !function(mpld3){\n",
        "       \n",
        "       mpld3.draw_figure(\"fig_el115801084441444165358530\", {\"height\": 320.0, \"data\": {\"data03\": [[0.6218217965949822, 0.7983870967741935], [0.9820788530465949, 0.7983870967741935], [0.9820788530465949, 0.9731182795698926], [0.6218217965949822, 0.9731182795698926], [0.6218217965949822, 0.7983870967741935]], \"data02\": [[0.6469114023297491, 0.9301075268817204, 0.8508064516129032], [0.6970906137992832, 0.9301075268817204, 0.8508064516129032]], \"data01\": [[0.0, -1.0, -0.9499999999999997], [1.0, 0.2, 0.050000000000000155], [2.0, 0.9, 1.05], [3.0, 2.1, 2.05]]}, \"id\": \"el11580108444144\", \"width\": 480.0, \"plugins\": [{\"type\": \"reset\"}, {\"button\": true, \"type\": \"zoom\", \"enabled\": false}, {\"button\": true, \"type\": \"boxzoom\", \"enabled\": false}], \"axes\": [{\"markers\": [{\"id\": \"el11580113759280pts\", \"xindex\": 0, \"data\": \"data01\", \"yindex\": 1, \"edgewidth\": 0.5, \"coordinates\": \"data\", \"edgecolor\": \"#000000\", \"alpha\": 1, \"zorder\": 2, \"facecolor\": \"#0000FF\", \"markerpath\": [[[0.0, 5.0], [1.3260155, 5.0], [2.597899353924267, 4.473168457941209], [3.5355339059327378, 3.5355339059327378], [4.473168457941209, 2.597899353924267], [5.0, 1.3260155], [5.0, 0.0], [5.0, -1.3260155], [4.473168457941209, -2.597899353924267], [3.5355339059327378, -3.5355339059327378], [2.597899353924267, -4.473168457941209], [1.3260155, -5.0], [0.0, -5.0], [-1.3260155, -5.0], [-2.597899353924267, -4.473168457941209], [-3.5355339059327378, -3.5355339059327378], [-4.473168457941209, -2.597899353924267], [-5.0, -1.3260155], [-5.0, 0.0], [-5.0, 1.3260155], [-4.473168457941209, 2.597899353924267], [-3.5355339059327378, 3.5355339059327378], [-2.597899353924267, 4.473168457941209], [-1.3260155, 5.0], [0.0, 5.0]], [\"M\", \"C\", \"C\", \"C\", \"C\", \"C\", \"C\", \"C\", \"C\", \"Z\"]]}, {\"id\": \"el11580113828816pts\", \"xindex\": 0, \"data\": \"data02\", \"yindex\": 1, \"edgewidth\": 0.5, \"coordinates\": \"axes\", \"edgecolor\": \"#000000\", \"alpha\": 1, \"zorder\": 1000002.0, \"facecolor\": \"#0000FF\", \"markerpath\": [[[0.0, 5.0], [1.3260155, 5.0], [2.597899353924267, 4.473168457941209], [3.5355339059327378, 3.5355339059327378], [4.473168457941209, 2.597899353924267], [5.0, 1.3260155], [5.0, 0.0], [5.0, -1.3260155], [4.473168457941209, -2.597899353924267], [3.5355339059327378, -3.5355339059327378], [2.597899353924267, -4.473168457941209], [1.3260155, -5.0], [0.0, -5.0], [-1.3260155, -5.0], [-2.597899353924267, -4.473168457941209], [-3.5355339059327378, -3.5355339059327378], [-4.473168457941209, -2.597899353924267], [-5.0, -1.3260155], [-5.0, 0.0], [-5.0, 1.3260155], [-4.473168457941209, 2.597899353924267], [-3.5355339059327378, 3.5355339059327378], [-2.597899353924267, 4.473168457941209], [-1.3260155, 5.0], [0.0, 5.0]], [\"M\", \"C\", \"C\", \"C\", \"C\", \"C\", \"C\", \"C\", \"C\", \"Z\"]]}], \"sharey\": [], \"axesbgalpha\": null, \"xscale\": \"linear\", \"sharex\": [], \"paths\": [{\"alpha\": 1, \"yindex\": 1, \"edgewidth\": 1.0, \"coordinates\": \"axes\", \"edgecolor\": \"#000000\", \"xindex\": 0, \"data\": \"data03\", \"zorder\": 1000001.0, \"id\": \"el11580113761040\", \"pathcodes\": [\"M\", \"L\", \"L\", \"L\", \"L\", \"Z\"], \"dasharray\": \"10,0\", \"facecolor\": \"#FFFFFF\"}], \"axesbg\": \"#FFFFFF\", \"ylim\": [-1.0, 2.5], \"lines\": [{\"id\": \"el11580108441872\", \"xindex\": 0, \"data\": \"data01\", \"yindex\": 2, \"color\": \"#FF0000\", \"coordinates\": \"data\", \"alpha\": 1, \"zorder\": 2, \"dasharray\": \"10,0\", \"linewidth\": 1.0}, {\"id\": \"el11580113830064\", \"xindex\": 0, \"data\": \"data02\", \"yindex\": 2, \"color\": \"#FF0000\", \"coordinates\": \"axes\", \"alpha\": 1, \"zorder\": 1000002.0, \"dasharray\": \"10,0\", \"linewidth\": 1.0}], \"zoomable\": true, \"images\": [], \"collections\": [], \"yscale\": \"linear\", \"ydomain\": [-1.0, 2.5], \"bbox\": [0.125, 0.125, 0.775, 0.775], \"axes\": [{\"tickformat\": null, \"grid\": {\"gridOn\": false}, \"position\": \"bottom\", \"scale\": \"linear\", \"nticks\": 7, \"fontsize\": 10.0, \"tickvalues\": null}, {\"tickformat\": null, \"grid\": {\"gridOn\": false}, \"position\": \"left\", \"scale\": \"linear\", \"nticks\": 8, \"fontsize\": 10.0, \"tickvalues\": null}], \"xlim\": [0.0, 3.0], \"texts\": [{\"alpha\": 1, \"text\": \"Original data\", \"coordinates\": \"axes\", \"fontsize\": 12.0, \"zorder\": 1000003.0, \"v_baseline\": \"auto\", \"color\": \"#000000\", \"id\": \"el11580113827984\", \"position\": [0.736517137096774, 0.9112903225806451], \"h_anchor\": \"start\", \"rotation\": -0.0}, {\"alpha\": 1, \"text\": \"FittedLine\", \"coordinates\": \"axes\", \"fontsize\": 12.0, \"zorder\": 1000003.0, \"v_baseline\": \"auto\", \"color\": \"#000000\", \"id\": \"el11580113829456\", \"position\": [0.736517137096774, 0.831989247311828], \"h_anchor\": \"start\", \"rotation\": -0.0}], \"id\": \"el11580108888464\", \"xdomain\": [0.0, 3.0]}]});\n",
        "   }(mpld3);\n",
        "}else if(typeof define === \"function\" && define.amd){\n",
        "   // require.js is available: use it to load d3/mpld3\n",
        "   require.config({paths: {d3: \"https://mpld3.github.io/js/d3.v3.min\"}});\n",
        "   require([\"d3\"], function(d3){\n",
        "      window.d3 = d3;\n",
        "      mpld3_load_lib(\"https://mpld3.github.io/js/mpld3.v0.2.js\", function(){\n",
        "         \n",
        "         mpld3.draw_figure(\"fig_el115801084441444165358530\", {\"height\": 320.0, \"data\": {\"data03\": [[0.6218217965949822, 0.7983870967741935], [0.9820788530465949, 0.7983870967741935], [0.9820788530465949, 0.9731182795698926], [0.6218217965949822, 0.9731182795698926], [0.6218217965949822, 0.7983870967741935]], \"data02\": [[0.6469114023297491, 0.9301075268817204, 0.8508064516129032], [0.6970906137992832, 0.9301075268817204, 0.8508064516129032]], \"data01\": [[0.0, -1.0, -0.9499999999999997], [1.0, 0.2, 0.050000000000000155], [2.0, 0.9, 1.05], [3.0, 2.1, 2.05]]}, \"id\": \"el11580108444144\", \"width\": 480.0, \"plugins\": [{\"type\": \"reset\"}, {\"button\": true, \"type\": \"zoom\", \"enabled\": false}, {\"button\": true, \"type\": \"boxzoom\", \"enabled\": false}], \"axes\": [{\"markers\": [{\"id\": \"el11580113759280pts\", \"xindex\": 0, \"data\": \"data01\", \"yindex\": 1, \"edgewidth\": 0.5, \"coordinates\": \"data\", \"edgecolor\": \"#000000\", \"alpha\": 1, \"zorder\": 2, \"facecolor\": \"#0000FF\", \"markerpath\": [[[0.0, 5.0], [1.3260155, 5.0], [2.597899353924267, 4.473168457941209], [3.5355339059327378, 3.5355339059327378], [4.473168457941209, 2.597899353924267], [5.0, 1.3260155], [5.0, 0.0], [5.0, -1.3260155], [4.473168457941209, -2.597899353924267], [3.5355339059327378, -3.5355339059327378], [2.597899353924267, -4.473168457941209], [1.3260155, -5.0], [0.0, -5.0], [-1.3260155, -5.0], [-2.597899353924267, -4.473168457941209], [-3.5355339059327378, -3.5355339059327378], [-4.473168457941209, -2.597899353924267], [-5.0, -1.3260155], [-5.0, 0.0], [-5.0, 1.3260155], [-4.473168457941209, 2.597899353924267], [-3.5355339059327378, 3.5355339059327378], [-2.597899353924267, 4.473168457941209], [-1.3260155, 5.0], [0.0, 5.0]], [\"M\", \"C\", \"C\", \"C\", \"C\", \"C\", \"C\", \"C\", \"C\", \"Z\"]]}, {\"id\": \"el11580113828816pts\", \"xindex\": 0, \"data\": \"data02\", \"yindex\": 1, \"edgewidth\": 0.5, \"coordinates\": \"axes\", \"edgecolor\": \"#000000\", \"alpha\": 1, \"zorder\": 1000002.0, \"facecolor\": \"#0000FF\", \"markerpath\": [[[0.0, 5.0], [1.3260155, 5.0], [2.597899353924267, 4.473168457941209], [3.5355339059327378, 3.5355339059327378], [4.473168457941209, 2.597899353924267], [5.0, 1.3260155], [5.0, 0.0], [5.0, -1.3260155], [4.473168457941209, -2.597899353924267], [3.5355339059327378, -3.5355339059327378], [2.597899353924267, -4.473168457941209], [1.3260155, -5.0], [0.0, -5.0], [-1.3260155, -5.0], [-2.597899353924267, -4.473168457941209], [-3.5355339059327378, -3.5355339059327378], [-4.473168457941209, -2.597899353924267], [-5.0, -1.3260155], [-5.0, 0.0], [-5.0, 1.3260155], [-4.473168457941209, 2.597899353924267], [-3.5355339059327378, 3.5355339059327378], [-2.597899353924267, 4.473168457941209], [-1.3260155, 5.0], [0.0, 5.0]], [\"M\", \"C\", \"C\", \"C\", \"C\", \"C\", \"C\", \"C\", \"C\", \"Z\"]]}], \"sharey\": [], \"axesbgalpha\": null, \"xscale\": \"linear\", \"sharex\": [], \"paths\": [{\"alpha\": 1, \"yindex\": 1, \"edgewidth\": 1.0, \"coordinates\": \"axes\", \"edgecolor\": \"#000000\", \"xindex\": 0, \"data\": \"data03\", \"zorder\": 1000001.0, \"id\": \"el11580113761040\", \"pathcodes\": [\"M\", \"L\", \"L\", \"L\", \"L\", \"Z\"], \"dasharray\": \"10,0\", \"facecolor\": \"#FFFFFF\"}], \"axesbg\": \"#FFFFFF\", \"ylim\": [-1.0, 2.5], \"lines\": [{\"id\": \"el11580108441872\", \"xindex\": 0, \"data\": \"data01\", \"yindex\": 2, \"color\": \"#FF0000\", \"coordinates\": \"data\", \"alpha\": 1, \"zorder\": 2, \"dasharray\": \"10,0\", \"linewidth\": 1.0}, {\"id\": \"el11580113830064\", \"xindex\": 0, \"data\": \"data02\", \"yindex\": 2, \"color\": \"#FF0000\", \"coordinates\": \"axes\", \"alpha\": 1, \"zorder\": 1000002.0, \"dasharray\": \"10,0\", \"linewidth\": 1.0}], \"zoomable\": true, \"images\": [], \"collections\": [], \"yscale\": \"linear\", \"ydomain\": [-1.0, 2.5], \"bbox\": [0.125, 0.125, 0.775, 0.775], \"axes\": [{\"tickformat\": null, \"grid\": {\"gridOn\": false}, \"position\": \"bottom\", \"scale\": \"linear\", \"nticks\": 7, \"fontsize\": 10.0, \"tickvalues\": null}, {\"tickformat\": null, \"grid\": {\"gridOn\": false}, \"position\": \"left\", \"scale\": \"linear\", \"nticks\": 8, \"fontsize\": 10.0, \"tickvalues\": null}], \"xlim\": [0.0, 3.0], \"texts\": [{\"alpha\": 1, \"text\": \"Original data\", \"coordinates\": \"axes\", \"fontsize\": 12.0, \"zorder\": 1000003.0, \"v_baseline\": \"auto\", \"color\": \"#000000\", \"id\": \"el11580113827984\", \"position\": [0.736517137096774, 0.9112903225806451], \"h_anchor\": \"start\", \"rotation\": -0.0}, {\"alpha\": 1, \"text\": \"FittedLine\", \"coordinates\": \"axes\", \"fontsize\": 12.0, \"zorder\": 1000003.0, \"v_baseline\": \"auto\", \"color\": \"#000000\", \"id\": \"el11580113829456\", \"position\": [0.736517137096774, 0.831989247311828], \"h_anchor\": \"start\", \"rotation\": -0.0}], \"id\": \"el11580108888464\", \"xdomain\": [0.0, 3.0]}]});\n",
        "      });\n",
        "    });\n",
        "}else{\n",
        "    // require.js not available: dynamically load d3 & mpld3\n",
        "    mpld3_load_lib(\"https://mpld3.github.io/js/d3.v3.min.js\", function(){\n",
        "         mpld3_load_lib(\"https://mpld3.github.io/js/mpld3.v0.2.js\", function(){\n",
        "                 \n",
        "                 mpld3.draw_figure(\"fig_el115801084441444165358530\", {\"height\": 320.0, \"data\": {\"data03\": [[0.6218217965949822, 0.7983870967741935], [0.9820788530465949, 0.7983870967741935], [0.9820788530465949, 0.9731182795698926], [0.6218217965949822, 0.9731182795698926], [0.6218217965949822, 0.7983870967741935]], \"data02\": [[0.6469114023297491, 0.9301075268817204, 0.8508064516129032], [0.6970906137992832, 0.9301075268817204, 0.8508064516129032]], \"data01\": [[0.0, -1.0, -0.9499999999999997], [1.0, 0.2, 0.050000000000000155], [2.0, 0.9, 1.05], [3.0, 2.1, 2.05]]}, \"id\": \"el11580108444144\", \"width\": 480.0, \"plugins\": [{\"type\": \"reset\"}, {\"button\": true, \"type\": \"zoom\", \"enabled\": false}, {\"button\": true, \"type\": \"boxzoom\", \"enabled\": false}], \"axes\": [{\"markers\": [{\"id\": \"el11580113759280pts\", \"xindex\": 0, \"data\": \"data01\", \"yindex\": 1, \"edgewidth\": 0.5, \"coordinates\": \"data\", \"edgecolor\": \"#000000\", \"alpha\": 1, \"zorder\": 2, \"facecolor\": \"#0000FF\", \"markerpath\": [[[0.0, 5.0], [1.3260155, 5.0], [2.597899353924267, 4.473168457941209], [3.5355339059327378, 3.5355339059327378], [4.473168457941209, 2.597899353924267], [5.0, 1.3260155], [5.0, 0.0], [5.0, -1.3260155], [4.473168457941209, -2.597899353924267], [3.5355339059327378, -3.5355339059327378], [2.597899353924267, -4.473168457941209], [1.3260155, -5.0], [0.0, -5.0], [-1.3260155, -5.0], [-2.597899353924267, -4.473168457941209], [-3.5355339059327378, -3.5355339059327378], [-4.473168457941209, -2.597899353924267], [-5.0, -1.3260155], [-5.0, 0.0], [-5.0, 1.3260155], [-4.473168457941209, 2.597899353924267], [-3.5355339059327378, 3.5355339059327378], [-2.597899353924267, 4.473168457941209], [-1.3260155, 5.0], [0.0, 5.0]], [\"M\", \"C\", \"C\", \"C\", \"C\", \"C\", \"C\", \"C\", \"C\", \"Z\"]]}, {\"id\": \"el11580113828816pts\", \"xindex\": 0, \"data\": \"data02\", \"yindex\": 1, \"edgewidth\": 0.5, \"coordinates\": \"axes\", \"edgecolor\": \"#000000\", \"alpha\": 1, \"zorder\": 1000002.0, \"facecolor\": \"#0000FF\", \"markerpath\": [[[0.0, 5.0], [1.3260155, 5.0], [2.597899353924267, 4.473168457941209], [3.5355339059327378, 3.5355339059327378], [4.473168457941209, 2.597899353924267], [5.0, 1.3260155], [5.0, 0.0], [5.0, -1.3260155], [4.473168457941209, -2.597899353924267], [3.5355339059327378, -3.5355339059327378], [2.597899353924267, -4.473168457941209], [1.3260155, -5.0], [0.0, -5.0], [-1.3260155, -5.0], [-2.597899353924267, -4.473168457941209], [-3.5355339059327378, -3.5355339059327378], [-4.473168457941209, -2.597899353924267], [-5.0, -1.3260155], [-5.0, 0.0], [-5.0, 1.3260155], [-4.473168457941209, 2.597899353924267], [-3.5355339059327378, 3.5355339059327378], [-2.597899353924267, 4.473168457941209], [-1.3260155, 5.0], [0.0, 5.0]], [\"M\", \"C\", \"C\", \"C\", \"C\", \"C\", \"C\", \"C\", \"C\", \"Z\"]]}], \"sharey\": [], \"axesbgalpha\": null, \"xscale\": \"linear\", \"sharex\": [], \"paths\": [{\"alpha\": 1, \"yindex\": 1, \"edgewidth\": 1.0, \"coordinates\": \"axes\", \"edgecolor\": \"#000000\", \"xindex\": 0, \"data\": \"data03\", \"zorder\": 1000001.0, \"id\": \"el11580113761040\", \"pathcodes\": [\"M\", \"L\", \"L\", \"L\", \"L\", \"Z\"], \"dasharray\": \"10,0\", \"facecolor\": \"#FFFFFF\"}], \"axesbg\": \"#FFFFFF\", \"ylim\": [-1.0, 2.5], \"lines\": [{\"id\": \"el11580108441872\", \"xindex\": 0, \"data\": \"data01\", \"yindex\": 2, \"color\": \"#FF0000\", \"coordinates\": \"data\", \"alpha\": 1, \"zorder\": 2, \"dasharray\": \"10,0\", \"linewidth\": 1.0}, {\"id\": \"el11580113830064\", \"xindex\": 0, \"data\": \"data02\", \"yindex\": 2, \"color\": \"#FF0000\", \"coordinates\": \"axes\", \"alpha\": 1, \"zorder\": 1000002.0, \"dasharray\": \"10,0\", \"linewidth\": 1.0}], \"zoomable\": true, \"images\": [], \"collections\": [], \"yscale\": \"linear\", \"ydomain\": [-1.0, 2.5], \"bbox\": [0.125, 0.125, 0.775, 0.775], \"axes\": [{\"tickformat\": null, \"grid\": {\"gridOn\": false}, \"position\": \"bottom\", \"scale\": \"linear\", \"nticks\": 7, \"fontsize\": 10.0, \"tickvalues\": null}, {\"tickformat\": null, \"grid\": {\"gridOn\": false}, \"position\": \"left\", \"scale\": \"linear\", \"nticks\": 8, \"fontsize\": 10.0, \"tickvalues\": null}], \"xlim\": [0.0, 3.0], \"texts\": [{\"alpha\": 1, \"text\": \"Original data\", \"coordinates\": \"axes\", \"fontsize\": 12.0, \"zorder\": 1000003.0, \"v_baseline\": \"auto\", \"color\": \"#000000\", \"id\": \"el11580113827984\", \"position\": [0.736517137096774, 0.9112903225806451], \"h_anchor\": \"start\", \"rotation\": -0.0}, {\"alpha\": 1, \"text\": \"FittedLine\", \"coordinates\": \"axes\", \"fontsize\": 12.0, \"zorder\": 1000003.0, \"v_baseline\": \"auto\", \"color\": \"#000000\", \"id\": \"el11580113829456\", \"position\": [0.736517137096774, 0.831989247311828], \"h_anchor\": \"start\", \"rotation\": -0.0}], \"id\": \"el11580108888464\", \"xdomain\": [0.0, 3.0]}]});\n",
        "            })\n",
        "         });\n",
        "}\n",
        "</script>"
       ],
       "metadata": {},
       "output_type": "display_data",
       "png": "[encoded data removed]",
       "text": [
        "<matplotlib.figure.Figure at 0x676b9f0>"
       ]
      }
     ],
     "prompt_number": 5
    },
    {
     "cell_type": "code",
     "collapsed": false,
     "input": [],
     "language": "python",
     "metadata": {},
     "outputs": []
    }
   ],
   "metadata": {}
  }
 ]
}