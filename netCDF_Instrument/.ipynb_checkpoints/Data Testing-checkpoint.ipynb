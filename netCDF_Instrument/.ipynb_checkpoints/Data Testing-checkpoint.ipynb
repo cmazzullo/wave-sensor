{
 "metadata": {
  "name": "",
  "signature": "sha256:831755b03b5cafc1ab3d52390807535d95b0ccaf68f668172074c3a98881bbe7"
 },
 "nbformat": 3,
 "nbformat_minor": 0,
 "worksheets": []
}