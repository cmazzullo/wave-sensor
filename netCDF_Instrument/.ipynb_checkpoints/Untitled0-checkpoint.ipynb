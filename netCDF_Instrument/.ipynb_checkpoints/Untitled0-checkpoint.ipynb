{
 "metadata": {
  "name": "",
  "signature": "sha256:46b02c805af0d0b3eb47d33834a8d7ebc54dcd3766436d465dff7e5498238fcc"
 },
 "nbformat": 3,
 "nbformat_minor": 0,
 "worksheets": [
  {
   "cells": [
    {
     "cell_type": "code",
     "collapsed": false,
     "input": [
      "%%javascript\n",
      "\n",
      "    $('#hide').click(function(){\n",
      "        $('div.input').hide();\n",
      "    });\n"
     ],
     "language": "python",
     "metadata": {},
     "outputs": [
      {
       "javascript": [
        "function test()\n",
        "{\n",
        "   alert('hello');\n",
        "}"
       ],
       "metadata": {},
       "output_type": "display_data",
       "text": [
        "<IPython.core.display.Javascript at 0x4340df0>"
       ]
      }
     ],
     "prompt_number": 18
    },
    {
     "cell_type": "code",
     "collapsed": false,
     "input": [
      "import types\n",
      "from functools import partial\n",
      "import json\n",
      "\n",
      "class JSCode(object):\n",
      "    def __init__(self, code):\n",
      "        self.code = code\n",
      "        self.invokes = \"\"\n",
      "        \n",
      "        # Find all the function name(  lines in the Javasript code\n",
      "        for line in code.split(\"\\n\"):\n",
      "            line = line.strip().split()\n",
      "            if line and line[0] == 'function':\n",
      "                funcname = line[1].split(\"(\")[0]\n",
      "                \n",
      "                # For each create a bound method to add to the list of invocations\n",
      "                def invoke(self, *args):\n",
      "                    argstr = ','.join([json.dumps(arg) for arg in args])\n",
      "                    self.invokes += \"%s(%s);\\n\" % (funcname, argstr)                \n",
      "\n",
      "                setattr(self, funcname, types.MethodType(invoke, self))    \n",
      "                \n",
      "    def _repr_javascript_(self):\n",
      "        \"\"\"Return the code definitions and all invocations\"\"\"\n",
      "        return self.code + self.invokes"
     ],
     "language": "python",
     "metadata": {},
     "outputs": [],
     "prompt_number": 1
    },
    {
     "cell_type": "code",
     "collapsed": false,
     "input": [
      "code = JSCode(\"\"\"\n",
      "    function test() {\n",
      "        alert(\"test!\");\n",
      "    }\n",
      "\n",
      "    function output(string) {\n",
      "        element.append(string);\n",
      "    }\n",
      "\"\"\")"
     ],
     "language": "python",
     "metadata": {},
     "outputs": [],
     "prompt_number": 13
    },
    {
     "cell_type": "code",
     "collapsed": false,
     "input": [
      "code.test, code.output"
     ],
     "language": "python",
     "metadata": {},
     "outputs": [
      {
       "metadata": {},
       "output_type": "pyout",
       "prompt_number": 14,
       "text": [
        "(<bound method JSCode.invoke of <__main__.JSCode object at 0x04340D10>>,\n",
        " <bound method JSCode.invoke of <__main__.JSCode object at 0x04340D10>>)"
       ]
      }
     ],
     "prompt_number": 14
    },
    {
     "cell_type": "code",
     "collapsed": false,
     "input": [
      "code.output(\"foo\")\n",
      "code.output(\" and bar x\")\n",
      "code"
     ],
     "language": "python",
     "metadata": {},
     "outputs": [
      {
       "javascript": [
        "\n",
        "    function test() {\n",
        "        alert(\"test!\");\n",
        "    }\n",
        "\n",
        "    function output(string) {\n",
        "        element.append(string);\n",
        "    }\n",
        "output();\n",
        "output(\"foo\");\n",
        "output(\" and bar x\");\n"
       ],
       "metadata": {},
       "output_type": "pyout",
       "prompt_number": 16,
       "text": [
        "<__main__.JSCode at 0x4340d10>"
       ]
      }
     ],
     "prompt_number": 16
    },
    {
     "cell_type": "code",
     "collapsed": false,
     "input": [
      "code.test()\n",
      "code"
     ],
     "language": "python",
     "metadata": {},
     "outputs": [
      {
       "javascript": [
        "\n",
        "    function test() {\n",
        "        alert(\"test!\");\n",
        "    }\n",
        "\n",
        "    function output(string) {\n",
        "        element.append(string);\n",
        "    }\n",
        "output();\n"
       ],
       "metadata": {},
       "output_type": "pyout",
       "prompt_number": 15,
       "text": [
        "<__main__.JSCode at 0x4340d10>"
       ]
      }
     ],
     "prompt_number": 15
    },
    {
     "cell_type": "code",
     "collapsed": false,
     "input": [],
     "language": "python",
     "metadata": {},
     "outputs": [
      {
       "javascript": [
        "test();"
       ],
       "metadata": {},
       "output_type": "display_data",
       "text": [
        "<IPython.core.display.Javascript at 0x4340ef0>"
       ]
      }
     ],
     "prompt_number": 20
    },
    {
     "cell_type": "code",
     "collapsed": false,
     "input": [],
     "language": "python",
     "metadata": {},
     "outputs": []
    }
   ],
   "metadata": {}
  }
 ]
}