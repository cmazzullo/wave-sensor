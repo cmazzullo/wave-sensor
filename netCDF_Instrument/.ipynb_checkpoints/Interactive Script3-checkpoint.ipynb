{
 "metadata": {
  "name": "",
  "signature": "sha256:5e2596ec27ebf1adfdb1f7c66987ab71d6e85440c56528cb5a8e903506405dd7"
 },
 "nbformat": 3,
 "nbformat_minor": 0,
 "worksheets": [
  {
   "cells": [
    {
     "cell_type": "code",
     "collapsed": false,
     "input": [
      "%matplotlib inline\n",
      "import matplotlib.pyplot as plt\n",
      "import numpy as np\n",
      "import mpld3\n",
      "import IPython.html.widgets as widgets\n",
      "from IPython.display import Javascript, display, clear_output\n",
      "plt.rcParams['figure.figsize'] = (10, 5)\n",
      "from TimeDomainAnalysis.script3 import MovingAverage\n",
      "\n",
      "mpld3.enable_notebook()"
     ],
     "language": "python",
     "metadata": {},
     "outputs": [],
     "prompt_number": 3
    },
    {
     "cell_type": "code",
     "collapsed": false,
     "input": [
      "data = MovingAverage()\n",
      "data.collect_data()\n",
      "\n",
      "def interact(window_size):\n",
      "    "
     ],
     "language": "python",
     "metadata": {},
     "outputs": []
    }
   ],
   "metadata": {}
  }
 ]
}